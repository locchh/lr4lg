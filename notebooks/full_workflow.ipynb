{
 "cells": [
  {
   "cell_type": "markdown",
   "id": "f84ed2cc-3022-43b6-b76f-c219f56db07b",
   "metadata": {},
   "source": [
    "# full migrate code workflow\n",
    "\n",
    "<center>\n",
    "    <img src=\"../assets/how.png\" alt=\"how\">\n",
    "</center>\n"
   ]
  },
  {
   "cell_type": "markdown",
   "id": "cc91e159-e28c-47d3-94a7-003016196206",
   "metadata": {},
   "source": [
    "## parsing"
   ]
  },
  {
   "cell_type": "code",
   "execution_count": null,
   "id": "ef43636d-ae39-4e7d-b38f-d0043fffbec8",
   "metadata": {},
   "outputs": [],
   "source": []
  },
  {
   "cell_type": "code",
   "execution_count": null,
   "id": "150acff6-ebb7-4bb2-8766-2a10acb64e5e",
   "metadata": {},
   "outputs": [],
   "source": []
  },
  {
   "cell_type": "markdown",
   "id": "0c9f9ac6-c391-42ad-98d8-805cabeb3149",
   "metadata": {},
   "source": [
    "## code understanding"
   ]
  },
  {
   "cell_type": "code",
   "execution_count": null,
   "id": "9ab6f998-8d62-4426-9526-67ed01cb4754",
   "metadata": {},
   "outputs": [],
   "source": []
  },
  {
   "cell_type": "code",
   "execution_count": null,
   "id": "7a2308c5-2d2d-4a56-b7ca-d7d10141283d",
   "metadata": {},
   "outputs": [],
   "source": []
  },
  {
   "cell_type": "markdown",
   "id": "f0a5129b-166e-4771-a7f4-ae7dbcba9990",
   "metadata": {},
   "source": [
    "## reverse engineering"
   ]
  },
  {
   "cell_type": "code",
   "execution_count": null,
   "id": "e26bd2c7-92b8-4711-9b7f-65065075c9a2",
   "metadata": {},
   "outputs": [],
   "source": []
  },
  {
   "cell_type": "code",
   "execution_count": null,
   "id": "93b003f2-3ac5-451a-be8c-3c8dc1d8c435",
   "metadata": {},
   "outputs": [],
   "source": []
  },
  {
   "cell_type": "markdown",
   "id": "b4805d97-c66e-497b-8173-066fc565043b",
   "metadata": {},
   "source": [
    "## code generation"
   ]
  },
  {
   "cell_type": "code",
   "execution_count": null,
   "id": "a3e73f83-ccd0-4f37-b603-5634fd90318e",
   "metadata": {},
   "outputs": [],
   "source": []
  },
  {
   "cell_type": "code",
   "execution_count": null,
   "id": "bf42bfcd-8b1f-4538-b715-0cca2eccc2e2",
   "metadata": {},
   "outputs": [],
   "source": []
  },
  {
   "cell_type": "code",
   "execution_count": null,
   "id": "8334a81d-052a-4ae1-b0a8-64e2a5a2120b",
   "metadata": {},
   "outputs": [],
   "source": []
  }
 ],
 "metadata": {
  "kernelspec": {
   "display_name": "Python 3 (ipykernel)",
   "language": "python",
   "name": "python3"
  },
  "language_info": {
   "codemirror_mode": {
    "name": "ipython",
    "version": 3
   },
   "file_extension": ".py",
   "mimetype": "text/x-python",
   "name": "python",
   "nbconvert_exporter": "python",
   "pygments_lexer": "ipython3",
   "version": "3.10.15"
  }
 },
 "nbformat": 4,
 "nbformat_minor": 5
}
