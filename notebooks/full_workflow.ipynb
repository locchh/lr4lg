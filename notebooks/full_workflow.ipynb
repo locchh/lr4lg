{
 "cells": [
  {
   "cell_type": "markdown",
   "id": "f84ed2cc-3022-43b6-b76f-c219f56db07b",
   "metadata": {},
   "source": [
    "# full migrate code workflow\n",
    "\n",
    "Full workflow of migrate legacy code into modren one\n",
    "\n",
    "- [parsing](#parsing)\n",
    "- [code understanding](#code_understanding)\n",
    "- [reverse engingeering](#reverse_engineering)\n",
    "- [code generation](#code_generation)\n",
    "- \n",
    "<center>\n",
    "    <img src=\"../assets/how.png\" alt=\"how\">\n",
    "</center>\n"
   ]
  },
  {
   "cell_type": "markdown",
   "id": "cc91e159-e28c-47d3-94a7-003016196206",
   "metadata": {},
   "source": [
    "## parsing"
   ]
  },
  {
   "cell_type": "code",
   "execution_count": 1,
   "id": "ef43636d-ae39-4e7d-b38f-d0043fffbec8",
   "metadata": {},
   "outputs": [
    {
     "name": "stdout",
     "output_type": "stream",
     "text": [
      "Import Successful!\n"
     ]
    }
   ],
   "source": [
    "import os\n",
    "import sys\n",
    "import json\n",
    "\n",
    "# Use the current working directory instead of __file__\n",
    "current_dir = os.getcwd()\n",
    "parent_dir = os.path.abspath(os.path.join(current_dir, '..','parser'))\n",
    "\n",
    "# Add the parent directory to sys.path\n",
    "sys.path.append(parent_dir)\n",
    "\n",
    "from antlr4 import *\n",
    "from cobol85.Cobol85Lexer import Cobol85Lexer\n",
    "from cobol85.Cobol85Parser import Cobol85Parser\n",
    "\n",
    "print(\"Import Successful!\")"
   ]
  },
  {
   "cell_type": "code",
   "execution_count": 2,
   "id": "150acff6-ebb7-4bb2-8766-2a10acb64e5e",
   "metadata": {},
   "outputs": [],
   "source": [
    "input_code = \"\"\"\n",
    "IDENTIFICATION DIVISION.\n",
    "PROGRAM-ID. EXAMPLE.\n",
    "DATA DIVISION.\n",
    "WORKING-STORAGE SECTION.\n",
    "77  NUM         PICTURE 99.\n",
    "77  QUOTIENT    PICTURE 99.\n",
    "77  REMAIN      PICTURE 9.\n",
    "PROCEDURE DIVISION.\n",
    "   ACCEPT NUM.\n",
    "   DIVIDE NUM BY 2 GIVING QUOTIENT REMAINDER REMAIN.\n",
    "   IF REMAIN = 0\n",
    "           DISPLAY NUM ' IS EVEN'\n",
    "   ELSE\n",
    "           DISPLAY  NUM ' IS ODD'\n",
    "   END-IF.\n",
    "   STOP RUN.\n",
    "\"\"\"\n",
    "\n",
    "lexer = Cobol85Lexer(InputStream(input_code))\n",
    "stream = CommonTokenStream(lexer)\n",
    "parser = Cobol85Parser(stream)\n",
    "\n",
    "tree = parser.startRule()"
   ]
  },
  {
   "cell_type": "markdown",
   "id": "0c9f9ac6-c391-42ad-98d8-805cabeb3149",
   "metadata": {},
   "source": [
    "## code_understanding"
   ]
  },
  {
   "cell_type": "code",
   "execution_count": 4,
   "id": "9ab6f998-8d62-4426-9526-67ed01cb4754",
   "metadata": {},
   "outputs": [],
   "source": [
    "from cobol85.CobolCFGListener import CobolCFGListener"
   ]
  },
  {
   "cell_type": "code",
   "execution_count": 5,
   "id": "7a2308c5-2d2d-4a56-b7ca-d7d10141283d",
   "metadata": {},
   "outputs": [],
   "source": [
    "cfg_listener = CobolCFGListener()\n",
    "walker = ParseTreeWalker()\n",
    "walker.walk(cfg_listener, tree)\n",
    "\n",
    "cfg_listener.add_end_node()"
   ]
  },
  {
   "cell_type": "code",
   "execution_count": 6,
   "id": "7633c0ab-7e34-44da-9fb8-e844e5e741c2",
   "metadata": {},
   "outputs": [],
   "source": [
    "data = {\n",
    "    \"nodes\": cfg_listener.nodes,\n",
    "    \"edges\": cfg_listener.edges,\n",
    "}\n",
    "\n",
    "# export json file for visualize\n",
    "with open('cfg.json', 'w') as f:\n",
    "    json.dump(data, f)"
   ]
  },
  {
   "cell_type": "code",
   "execution_count": 12,
   "id": "304a44a8-b26b-4a97-ba24-f27c9d597617",
   "metadata": {},
   "outputs": [
    {
     "data": {
      "text/plain": [
       "{'nodes': [{'id': '1', 'data': {'label': 'start'}},\n",
       "  {'id': '2', 'data': {'label': 'ACCEPT NUM\\n'}},\n",
       "  {'id': '3', 'data': {'label': 'DIVIDE NUM BY 2 REMINDER REMAIN\\n'}},\n",
       "  {'id': '4', 'data': {'label': 'IF REMAIN=0\\n'}},\n",
       "  {'id': '5', 'data': {'label': \"DISPLAY NUM ' IS EVEN'\\n\"}},\n",
       "  {'id': '6', 'data': {'label': \"DISPLAY NUM ' IS ODD'\\n\"}},\n",
       "  {'id': '7', 'data': {'label': 'End If'}},\n",
       "  {'id': '8', 'data': {'label': 'stop'}}],\n",
       " 'edges': [{'id': '2',\n",
       "   'source': '1',\n",
       "   'target': '2',\n",
       "   'label': 'sequential next'},\n",
       "  {'id': '3', 'source': '2', 'target': '3', 'label': 'sequential next'},\n",
       "  {'id': '4', 'source': '3', 'target': '4', 'label': 'sequential next'},\n",
       "  {'id': '5', 'source': '4', 'target': '5', 'label': 'true'},\n",
       "  {'id': '6', 'source': '4', 'target': '6', 'label': 'false'},\n",
       "  {'id': '7', 'source': '5', 'target': '7', 'label': 'sequential next'},\n",
       "  {'id': '7', 'source': '6', 'target': '7', 'label': 'sequential next'},\n",
       "  {'id': '8', 'source': '7', 'target': '8', 'label': 'sequential next'}]}"
      ]
     },
     "execution_count": 12,
     "metadata": {},
     "output_type": "execute_result"
    }
   ],
   "source": [
    "data"
   ]
  },
  {
   "cell_type": "code",
   "execution_count": 9,
   "id": "2fe66b14-fd6d-48f2-93a6-deee89379043",
   "metadata": {},
   "outputs": [],
   "source": [
    "# visualize json file\n",
    "!python ../utils/visualize_cfg.py cfg.json"
   ]
  },
  {
   "cell_type": "code",
   "execution_count": 17,
   "id": "11ad2f40-dd65-4de4-8705-54d29bb57585",
   "metadata": {},
   "outputs": [
    {
     "data": {
      "image/png": "[encoded data removed]",
      "text/plain": [
       "<Figure size 1000x800 with 1 Axes>"
      ]
     },
     "metadata": {},
     "output_type": "display_data"
    }
   ],
   "source": [
    "import matplotlib.pyplot as plt\n",
    "import matplotlib.image as mpimg\n",
    "\n",
    "# Load the image\n",
    "img = mpimg.imread('cfg.png')  # Replace with your image path\n",
    "\n",
    "# Create a figure with a specified size\n",
    "plt.figure(figsize=(10, 8))\n",
    "\n",
    "# Display the image with a fancy colormap (optional)\n",
    "plt.imshow(img, cmap='viridis')  # You can change 'viridis' to any other colormap\n",
    "\n",
    "# Add a title to the image\n",
    "plt.title('Control Flow Graph', fontsize=20, fontweight='bold')\n",
    "\n",
    "# Hide the axes for a cleaner look\n",
    "plt.axis('off')\n",
    "\n",
    "# Show the image\n",
    "plt.show()\n"
   ]
  },
  {
   "cell_type": "code",
   "execution_count": 18,
   "id": "139009c6-fe61-4b3b-86ad-6260430c559e",
   "metadata": {},
   "outputs": [
    {
     "name": "stdout",
     "output_type": "stream",
     "text": [
      "{\n",
      "    \"nodes\": [\n",
      "        {\n",
      "            \"id\": \"1\",\n",
      "            \"data\": {\n",
      "                \"label\": \"start\"\n",
      "            }\n",
      "        },\n",
      "        {\n",
      "            \"id\": \"2\",\n",
      "            \"data\": {\n",
      "                \"label\": \"ACCEPT NUM\\n\"\n",
      "            }\n",
      "        },\n",
      "        {\n",
      "            \"id\": \"3\",\n",
      "            \"data\": {\n",
      "                \"label\": \"DIVIDE NUM BY 2 REMINDER REMAIN\\n\"\n",
      "            }\n",
      "        },\n",
      "        {\n",
      "            \"id\": \"4\",\n",
      "            \"data\": {\n",
      "                \"label\": \"IF REMAIN=0\\n\"\n",
      "            }\n",
      "        },\n",
      "        {\n",
      "            \"id\": \"5\",\n",
      "            \"data\": {\n",
      "                \"label\": \"DISPLAY NUM ' IS EVEN'\\n\"\n",
      "            }\n",
      "        },\n",
      "        {\n",
      "            \"id\": \"6\",\n",
      "            \"data\": {\n",
      "                \"label\": \"DISPLAY NUM ' IS ODD'\\n\"\n",
      "            }\n",
      "        },\n",
      "        {\n",
      "            \"id\": \"7\",\n",
      "            \"data\": {\n",
      "                \"label\": \"End If\"\n",
      "            }\n",
      "        },\n",
      "        {\n",
      "            \"id\": \"8\",\n",
      "            \"data\": {\n",
      "                \"label\": \"stop\"\n",
      "            }\n",
      "        }\n",
      "    ],\n",
      "    \"edges\": [\n",
      "        {\n",
      "            \"id\": \"2\",\n",
      "            \"source\": \"1\",\n",
      "            \"target\": \"2\",\n",
      "            \"label\": \"sequential next\"\n",
      "        },\n",
      "        {\n",
      "            \"id\": \"3\",\n",
      "            \"source\": \"2\",\n",
      "            \"target\": \"3\",\n",
      "            \"label\": \"sequential next\"\n",
      "        },\n",
      "        {\n",
      "            \"id\": \"4\",\n",
      "            \"source\": \"3\",\n",
      "            \"target\": \"4\",\n",
      "            \"label\": \"sequential next\"\n",
      "        },\n",
      "        {\n",
      "            \"id\": \"5\",\n",
      "            \"source\": \"4\",\n",
      "            \"target\": \"5\",\n",
      "            \"label\": \"true\"\n",
      "        },\n",
      "        {\n",
      "            \"id\": \"6\",\n",
      "            \"source\": \"4\",\n",
      "            \"target\": \"6\",\n",
      "            \"label\": \"false\"\n",
      "        },\n",
      "        {\n",
      "            \"id\": \"7\",\n",
      "            \"source\": \"5\",\n",
      "            \"target\": \"7\",\n",
      "            \"label\": \"sequential next\"\n",
      "        },\n",
      "        {\n",
      "            \"id\": \"7\",\n",
      "            \"source\": \"6\",\n",
      "            \"target\": \"7\",\n",
      "            \"label\": \"sequential next\"\n",
      "        },\n",
      "        {\n",
      "            \"id\": \"8\",\n",
      "            \"source\": \"7\",\n",
      "            \"target\": \"8\",\n",
      "            \"label\": \"sequential next\"\n",
      "        }\n",
      "    ]\n",
      "}\n"
     ]
    }
   ],
   "source": [
    "# Convert JSON object to string\n",
    "parsed_data = json.dumps(data, indent=4)  # indent for pretty printing\n",
    "print(parsed_data)"
   ]
  },
  {
   "cell_type": "code",
   "execution_count": 21,
   "id": "37ac9969-8c59-41f8-89ff-61e6eb4ebd52",
   "metadata": {},
   "outputs": [
    {
     "name": "stdout",
     "output_type": "stream",
     "text": [
      "### Report: Functionality of the Provided Code Based on Control Flow Graph\n",
      "\n",
      "This report outlines the functionality of the given code based on its control flow graph representation. The graph is composed of nodes, each representing a distinct step or state in the process, and directed edges that indicate the flow from one state to another. \n",
      "\n",
      "#### Code Execution Flow\n",
      "\n",
      "1. **Start Node (ID: 1)**:\n",
      "   - The code execution begins at the \"start\" node. This node signifies the entry point of the program, where the process is initiated.\n",
      "\n",
      "2. **Accept Number (Node ID: 2)**:\n",
      "   - The execution moves to the second node where it waits for an input: \"ACCEPT NUM\". The user is expected to provide a numerical value that will be processed subsequently.\n",
      "\n",
      "3. **Divide Number by 2 and Calculate Remainder (Node ID: 3)**:\n",
      "   - After successfully accepting the number, the program transitions to node 3, where it performs the following operation: \"DIVIDE NUM BY 2 REMAINDER REMAIN\". Here, the input number is divided by 2, and the remainder of that division is computed.\n",
      "\n",
      "4. **Check if the Remainder is Zero (Node ID: 4)**:\n",
      "   - The execution then moves to node 4, where it evaluates a conditional expression: \"IF REMAIN = 0\". This condition checks whether the remainder calculated in the previous step equals zero.\n",
      "\n",
      "5. **Display Result Based on Condition**:\n",
      "   - Depending on the result of the condition:\n",
      "     - If the condition is **true** (remainder is zero), the program follows edge 4 to node 5: \"DISPLAY NUM ' IS EVEN'\". This node signifies that the input number is even, and the program outputs a message indicating this.\n",
      "     - If the condition is **false** (remainder is not zero), the program follows edge 5 to node 6: \"DISPLAY NUM ' IS ODD'\". This node outputs a message indicating that the input number is odd.\n",
      "\n",
      "6. **End Conditional Check (Node ID: 7)**:\n",
      "   - Regardless of which output was displayed (even or odd), the execution reaches node 7: \"End If\". This node represents the termination of the conditional check.\n",
      "\n",
      "7. **Stop Node (Node ID: 8)**:\n",
      "   - Finally, the program moves to the last node, marked as \"stop\" (Node ID: 8), where the execution concludes.\n",
      "\n",
      "#### Summary of Flow Control\n",
      "- The control flow graph demonstrates a straightforward sequence of operations:\n",
      "  - Start → Accept Number → Calculate Remainder → Conditional Check → Output Result (Even or Odd) → End Conditional → Stop.\n",
      "- The conditional branching effectively directs the flow based on the evaluated expression (remainder check), ensuring that the appropriate message is displayed based on the user's input.\n",
      "\n",
      "#### Conclusion\n",
      "In summary, the code serves a clear purpose: it accepts a numerical input from the user, assesses its parity by checking the remainder when divided by 2, and displays whether the number is \"even\" or \"odd\" accordingly. Finally, it reaches an orderly termination after displaying the outcome. The control flow graph succinctly encapsulates this process, providing a graphical representation of the program's logic and flow.\n"
     ]
    }
   ],
   "source": [
    "from openai import OpenAI\n",
    "\n",
    "with open(\"/home/loc/Documents/keys/OPENAI_API_KEY.txt\") as f:\n",
    "    OPENAI_API_KEY = f.read().strip()\n",
    "    \n",
    "client = OpenAI(api_key=OPENAI_API_KEY)\n",
    "\n",
    "# Function to prompt the LLM\n",
    "def generate_report(parsed_data):\n",
    "    prompt = (\n",
    "        f\"Create a report explaining how this code functions based on the provided control flow graph JSON:\\n {parsed_data}.\"\n",
    "    )\n",
    "    \n",
    "    response = client.chat.completions.create(\n",
    "                messages=[{\n",
    "                    \"role\": \"user\",\n",
    "                    \"content\": prompt,\n",
    "                }],\n",
    "                model=\"gpt-4o-mini\",\n",
    "            )\n",
    "\n",
    "    \n",
    "    return response.choices[0].message.content\n",
    "\n",
    "report = generate_report(parsed_data)\n",
    "print(report)"
   ]
  },
  {
   "cell_type": "markdown",
   "id": "f0a5129b-166e-4771-a7f4-ae7dbcba9990",
   "metadata": {},
   "source": [
    "## reverse_engineering"
   ]
  },
  {
   "cell_type": "code",
   "execution_count": 31,
   "id": "e26bd2c7-92b8-4711-9b7f-65065075c9a2",
   "metadata": {},
   "outputs": [
    {
     "name": "stdout",
     "output_type": "stream",
     "text": [
      "This is the report that describes how the code operates, please write the equivalent functionality in Java.\n",
      "### Report: Functionality of the Provided Code Based on Control Flow Graph\n",
      "\n",
      "This report outlines the functionality of the given code based on its control flow graph representation. The graph is composed of nodes, each representing a distinct step or state in the process, and directed edges that indicate the flow from one state to another. \n",
      "\n",
      "#### Code Execution Flow\n",
      "\n",
      "1. **Start Node (ID: 1)**:\n",
      "   - The code execution begins at the \"start\" node. This node signifies the entry point of the program, where the process is initiated.\n",
      "\n",
      "2. **Accept Number (Node ID: 2)**:\n",
      "   - The execution moves to the second node where it waits for an input: \"ACCEPT NUM\". The user is expected to provide a numerical value that will be processed subsequently.\n",
      "\n",
      "3. **Divide Number by 2 and Calculate Remainder (Node ID: 3)**:\n",
      "   - After successfully accepting the number, the program transitions to node 3, where it performs the following operation: \"DIVIDE NUM BY 2 REMAINDER REMAIN\". Here, the input number is divided by 2, and the remainder of that division is computed.\n",
      "\n",
      "4. **Check if the Remainder is Zero (Node ID: 4)**:\n",
      "   - The execution then moves to node 4, where it evaluates a conditional expression: \"IF REMAIN = 0\". This condition checks whether the remainder calculated in the previous step equals zero.\n",
      "\n",
      "5. **Display Result Based on Condition**:\n",
      "   - Depending on the result of the condition:\n",
      "     - If the condition is **true** (remainder is zero), the program follows edge 4 to node 5: \"DISPLAY NUM ' IS EVEN'\". This node signifies that the input number is even, and the program outputs a message indicating this.\n",
      "     - If the condition is **false** (remainder is not zero), the program follows edge 5 to node 6: \"DISPLAY NUM ' IS ODD'\". This node outputs a message indicating that the input number is odd.\n",
      "\n",
      "6. **End Conditional Check (Node ID: 7)**:\n",
      "   - Regardless of which output was displayed (even or odd), the execution reaches node 7: \"End If\". This node represents the termination of the conditional check.\n",
      "\n",
      "7. **Stop Node (Node ID: 8)**:\n",
      "   - Finally, the program moves to the last node, marked as \"stop\" (Node ID: 8), where the execution concludes.\n",
      "\n",
      "#### Summary of Flow Control\n",
      "- The control flow graph demonstrates a straightforward sequence of operations:\n",
      "  - Start → Accept Number → Calculate Remainder → Conditional Check → Output Result (Even or Odd) → End Conditional → Stop.\n",
      "- The conditional branching effectively directs the flow based on the evaluated expression (remainder check), ensuring that the appropriate message is displayed based on the user's input.\n",
      "\n",
      "#### Conclusion\n",
      "In summary, the code serves a clear purpose: it accepts a numerical input from the user, assesses its parity by checking the remainder when divided by 2, and displays whether the number is \"even\" or \"odd\" accordingly. Finally, it reaches an orderly termination after displaying the outcome. The control flow graph succinctly encapsulates this process, providing a graphical representation of the program's logic and flow.\n"
     ]
    }
   ],
   "source": [
    "request_template = f\"This is the report that describes how the code operates, please write the equivalent functionality in Java.\\n{report}\"\n",
    "\n",
    "request = request_template.format(report=report)\n",
    "print(request)"
   ]
  },
  {
   "cell_type": "markdown",
   "id": "b4805d97-c66e-497b-8173-066fc565043b",
   "metadata": {},
   "source": [
    "## code_generation"
   ]
  },
  {
   "cell_type": "code",
   "execution_count": 34,
   "id": "a3e73f83-ccd0-4f37-b603-5634fd90318e",
   "metadata": {},
   "outputs": [
    {
     "name": "stdout",
     "output_type": "stream",
     "text": [
      "```java\n",
      "import java.util.Scanner;\n",
      "\n",
      "public class EvenOddChecker {\n",
      "    public static void main(String[] args) {\n",
      "        // Start Node\n",
      "        Scanner scanner = new Scanner(System.in);\n",
      "        \n",
      "        // Accept Number (Node ID: 2)\n",
      "        System.out.print(\"ACCEPT NUM: \");\n",
      "        int num = scanner.nextInt();\n",
      "\n",
      "        // Divide Number by 2 and Calculate Remainder (Node ID: 3)\n",
      "        int remainder = num % 2;\n",
      "\n",
      "        // Check if the Remainder is Zero (Node ID: 4)\n",
      "        if (remainder == 0) {\n",
      "            // DISPLAY NUM ' IS EVEN' (Node ID: 5)\n",
      "            System.out.println(num + \" IS EVEN\");\n",
      "        } else {\n",
      "            // DISPLAY NUM ' IS ODD' (Node ID: 6)\n",
      "            System.out.println(num + \" IS ODD\");\n",
      "        }\n",
      "\n",
      "        // End Conditional Check (Node ID: 7)\n",
      "\n",
      "        // Stop Node (Node ID: 8)\n",
      "        scanner.close();\n",
      "    }\n",
      "}\n",
      "```\n"
     ]
    }
   ],
   "source": [
    "# Function to prompt the LLM\n",
    "def generate_code(request):\n",
    "\n",
    "    response = client.chat.completions.create(\n",
    "                messages=[\n",
    "                    {\"role\": \"system\",\n",
    "                     \"content\": \"Your task is to generate Java code based on the provided request. Ensure that your response includes only the code.\",\n",
    "                    },\n",
    "                    {\"role\": \"user\",\n",
    "                    \"content\": request,\n",
    "                    },\n",
    "                ],\n",
    "                model=\"gpt-4o-mini\",\n",
    "            )\n",
    "\n",
    "    \n",
    "    return response.choices[0].message.content\n",
    "\n",
    "code = generate_code(request)\n",
    "print(code)"
   ]
  },
  {
   "cell_type": "markdown",
   "id": "25fecc5d-1f31-44f8-83f3-43dbfaafdf2b",
   "metadata": {},
   "source": [
    "## direct_migration"
   ]
  },
  {
   "cell_type": "code",
   "execution_count": 36,
   "id": "0b928c63-9b37-462e-a1d9-eb67fe200a01",
   "metadata": {},
   "outputs": [
    {
     "name": "stdout",
     "output_type": "stream",
     "text": [
      "```java\n",
      "import java.util.Scanner;\n",
      "\n",
      "public class EvenOddChecker {\n",
      "    public static void main(String[] args) {\n",
      "        Scanner scanner = new Scanner(System.in);\n",
      "        \n",
      "        // Step 1: Accept Number\n",
      "        System.out.print(\"Enter a number: \");\n",
      "        int num = scanner.nextInt();\n",
      "        \n",
      "        // Step 2: Divide Number by 2 and Calculate Remainder\n",
      "        int remain = num % 2;\n",
      "        \n",
      "        // Step 3: Check if the Remainder is Zero\n",
      "        if (remain == 0) {\n",
      "            // Step 4: Display Result if Even\n",
      "            System.out.println(num + \" is even.\");\n",
      "        } else {\n",
      "            // Step 5: Display Result if Odd\n",
      "            System.out.println(num + \" is odd.\");\n",
      "        }\n",
      "        \n",
      "        // Step 6: Closing scanner\n",
      "        scanner.close();\n",
      "        \n",
      "        // Step 7: Program termination\n",
      "    }\n",
      "}\n",
      "```\n"
     ]
    }
   ],
   "source": [
    "# Function to prompt the LLM\n",
    "def migrate_code(input_code):\n",
    "\n",
    "    response = client.chat.completions.create(\n",
    "                messages=[\n",
    "                    {\"role\": \"system\",\n",
    "                     \"content\": \"Please convert the following COBOL code into Java.\\\n",
    "                                 Ensure that the functionality is preserved and that the Java code follows best practices \\\n",
    "                                 and your response includes only the code\",\n",
    "                    },\n",
    "                    {\"role\": \"user\",\n",
    "                    \"content\": request,\n",
    "                    },\n",
    "                ],\n",
    "                model=\"gpt-4o-mini\",\n",
    "            )\n",
    "\n",
    "    \n",
    "    return response.choices[0].message.content\n",
    "\n",
    "code = migrate_code(input_code)\n",
    "print(code)"
   ]
  }
 ],
 "metadata": {
  "kernelspec": {
   "display_name": "Python 3 (ipykernel)",
   "language": "python",
   "name": "python3"
  },
  "language_info": {
   "codemirror_mode": {
    "name": "ipython",
    "version": 3
   },
   "file_extension": ".py",
   "mimetype": "text/x-python",
   "name": "python",
   "nbconvert_exporter": "python",
   "pygments_lexer": "ipython3",
   "version": "3.10.15"
  }
 },
 "nbformat": 4,
 "nbformat_minor": 5
}
