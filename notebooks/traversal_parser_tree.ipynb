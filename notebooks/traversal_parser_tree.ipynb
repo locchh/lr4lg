{
 "cells": [
  {
   "cell_type": "code",
   "execution_count": 2,
   "id": "819ab746-e28b-4a32-8071-d53386125df6",
   "metadata": {},
   "outputs": [
    {
     "name": "stdout",
     "output_type": "stream",
     "text": [
      "Import Successful!\n"
     ]
    }
   ],
   "source": [
    "import os\n",
    "import sys\n",
    "import json\n",
    "\n",
    "# Use the current working directory instead of __file__\n",
    "current_dir = os.getcwd()\n",
    "parent_dir = os.path.abspath(os.path.join(current_dir, '..','parser'))\n",
    "\n",
    "# Add the parent directory to sys.path\n",
    "sys.path.append(parent_dir)\n",
    "\n",
    "from antlr4 import *\n",
    "from cobol85.Cobol85Lexer import Cobol85Lexer\n",
    "from cobol85.Cobol85Parser import Cobol85Parser\n",
    "from cobol85.CobolCFGListener import CobolCFGListener\n",
    "\n",
    "print(\"Import Successful!\")"
   ]
  },
  {
   "cell_type": "code",
   "execution_count": 3,
   "id": "dfc3a6d7-a208-4dee-93f5-77968b110797",
   "metadata": {},
   "outputs": [],
   "source": [
    "input_code = \"\"\"\n",
    "IDENTIFICATION DIVISION.\n",
    "       PROGRAM-ID. EXAMPLE.\n",
    "       DATA DIVISION.\n",
    "       WORKING-STORAGE SECTION.\n",
    "       77  NUM         PICTURE 99.\n",
    "       77  QUOTIENT    PICTURE 99.\n",
    "       77  REMAIN      PICTURE 9.\n",
    "       PROCEDURE DIVISION.\n",
    "           ACCEPT NUM.\n",
    "           DIVIDE NUM BY 2 GIVING QUOTIENT REMAINDER REMAIN.\n",
    "           IF REMAIN = 0\n",
    "                   DISPLAY NUM ' IS EVEN'\n",
    "           ELSE\n",
    "                   DISPLAY  NUM ' IS ODD'\n",
    "           END-IF.\n",
    "           STOP RUN.\n",
    "\"\"\"\n",
    "\n",
    "lexer = Cobol85Lexer(InputStream(input_code))\n",
    "stream = CommonTokenStream(lexer)\n",
    "parser = Cobol85Parser(stream)\n",
    "\n",
    "tree = parser.startRule()"
   ]
  },
  {
   "cell_type": "code",
   "execution_count": 4,
   "id": "359df36a-9f1e-4ee2-967b-d19a0c1f76b2",
   "metadata": {},
   "outputs": [],
   "source": [
    "cfg_listener = CobolCFGListener()\n",
    "walker = ParseTreeWalker()\n",
    "walker.walk(cfg_listener, tree)\n"
   ]
  },
  {
   "cell_type": "code",
   "execution_count": 5,
   "id": "4febb908-a4f9-427c-841a-16d02e91d739",
   "metadata": {},
   "outputs": [
    {
     "data": {
      "text/plain": [
       "{'nodes': [{'id': 'start', 'data': {'label': 'start'}}], 'edges': []}"
      ]
     },
     "execution_count": 5,
     "metadata": {},
     "output_type": "execute_result"
    }
   ],
   "source": [
    "data = {\n",
    "    \"nodes\": cfg_listener.nodes,\n",
    "    \"edges\": cfg_listener.edges,\n",
    "}\n",
    "\n",
    "data"
   ]
  },
  {
   "cell_type": "code",
   "execution_count": null,
   "id": "4d6dcb15-ef78-4fd1-aaf4-1c67a5e3b4ac",
   "metadata": {},
   "outputs": [],
   "source": []
  }
 ],
 "metadata": {
  "kernelspec": {
   "display_name": "Python 3 (ipykernel)",
   "language": "python",
   "name": "python3"
  },
  "language_info": {
   "codemirror_mode": {
    "name": "ipython",
    "version": 3
   },
   "file_extension": ".py",
   "mimetype": "text/x-python",
   "name": "python",
   "nbconvert_exporter": "python",
   "pygments_lexer": "ipython3",
   "version": "3.10.15"
  }
 },
 "nbformat": 4,
 "nbformat_minor": 5
}
