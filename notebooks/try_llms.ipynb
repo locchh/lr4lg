{
 "cells": [
  {
   "cell_type": "markdown",
   "id": "4cd16b8d-b924-4700-bba5-6e3468ff9b8f",
   "metadata": {},
   "source": [
    "# LLMs\n",
    "\n",
    "|No|Model|GPU Mem|\n",
    "|---|---|---|\n",
    "|1|[bloopai/mAInframer-7b](#bloopai/mAInframer-7b)|22GB|\n",
    "|2|[ibm-granite/granite-3b-code-instruct-128k](#ibm-granite/granite-3b-code-instruct-128k)|14GB|\n",
    "|3|[bigcode/starcoder2-3b](#bigcode/starcoder2-3b)|13GB|\n",
    "|4|[meta-llama/Llama-3.2-3B-Instruct](#meta-llama/Llama-3.2-3B-Instruct)|11GB|\n",
    "\n",
    "**Note**: kill process: `sudo kill -9 <pid>`"
   ]
  },
  {
   "cell_type": "markdown",
   "id": "45f1f234-8660-4494-b531-ff2f6a70b5ad",
   "metadata": {},
   "source": [
    "## meta-llama/Llama-3.2-3B-Instruct"
   ]
  },
  {
   "cell_type": "code",
   "execution_count": 1,
   "id": "f8025501-1757-4092-b380-5de0a8735dcd",
   "metadata": {},
   "outputs": [
    {
     "name": "stdout",
     "output_type": "stream",
     "text": [
      "Current GPU: Tesla P40\n"
     ]
    }
   ],
   "source": [
    "import os\n",
    "os.environ[\"CUDA_VISIBLE_DEVICES\"] = \"0\"\n",
    "\n",
    "import torch\n",
    "# Check if a GPU is available\n",
    "if torch.cuda.is_available():\n",
    "    # Get the current device index (default is 0 if no other device is specified)\n",
    "    current_device = torch.cuda.current_device()\n",
    "    \n",
    "    # Get the name of the GPU at this device index\n",
    "    gpu_name = torch.cuda.get_device_name(current_device)\n",
    "    print(f\"Current GPU: {gpu_name}\")\n",
    "else:\n",
    "    print(\"No GPU available.\")"
   ]
  },
  {
   "cell_type": "code",
   "execution_count": 7,
   "id": "0e39b1b3-3880-4d7b-9b5e-0e96e0fa1ff3",
   "metadata": {},
   "outputs": [
    {
     "data": {
      "application/vnd.jupyter.widget-view+json": {
       "model_id": "e174faa256ac4b888c6819795aa1e503",
       "version_major": 2,
       "version_minor": 0
      },
      "text/plain": [
       "Loading checkpoint shards:   0%|          | 0/2 [00:00<?, ?it/s]"
      ]
     },
     "metadata": {},
     "output_type": "display_data"
    },
    {
     "name": "stderr",
     "output_type": "stream",
     "text": [
      "Some parameters are on the meta device because they were offloaded to the cpu.\n",
      "Setting `pad_token_id` to `eos_token_id`:128001 for open-end generation.\n"
     ]
    },
    {
     "name": "stdout",
     "output_type": "stream",
     "text": [
      "{'role': 'assistant', 'content': \"Yer lookin' fer a swashbucklin' chatbot, eh? Alright then, matey, I be Captain Codswallop, the scurviest pirate bot to ever sail the Seven Seas... er, I mean, the internet! Me and me trusty parrot sidekick, Polly, be here to share tales o' adventure, answer yer questions, and maybe even teach ye a thing or two about the high seas... or at least, about pirate-y things! So hoist the colors, me hearty, and let's set sail fer a treasure-filled conversation!\"}\n"
     ]
    }
   ],
   "source": [
    "import torch\n",
    "from transformers import pipeline\n",
    "\n",
    "model_id = \"meta-llama/Llama-3.2-3B-Instruct\"\n",
    "pipe = pipeline(\n",
    "    \"text-generation\",\n",
    "    model=model_id,\n",
    "    torch_dtype=torch.float32,\n",
    "    device_map=\"auto\",\n",
    ")\n",
    "messages = [\n",
    "    {\"role\": \"system\", \"content\": \"You are a pirate chatbot who always responds in pirate speak!\"},\n",
    "    {\"role\": \"user\", \"content\": \"Who are you?\"},\n",
    "]\n",
    "outputs = pipe(\n",
    "    messages,\n",
    "    max_new_tokens=256,\n",
    ")\n",
    "print(outputs[0][\"generated_text\"][-1])\n"
   ]
  },
  {
   "cell_type": "markdown",
   "id": "2041fa3f-d9e4-4f53-b8be-59a96e89dd11",
   "metadata": {},
   "source": [
    "**Code generation**"
   ]
  },
  {
   "cell_type": "code",
   "execution_count": 9,
   "id": "a5acbc66-74bd-4d9f-ba71-285c93f4d52b",
   "metadata": {},
   "outputs": [
    {
     "name": "stderr",
     "output_type": "stream",
     "text": [
      "Setting `pad_token_id` to `eos_token_id`:128001 for open-end generation.\n"
     ]
    },
    {
     "name": "stdout",
     "output_type": "stream",
     "text": [
      "Here's an example of how you can find the maximum value in a list of numbers in COBOL:\n",
      "\n",
      "```cobol\n",
      "IDENTIFICATION DIVISION.\n",
      "PROGRAM-ID. MAXIMUM-VALUE.\n",
      "\n",
      "DATA DIVISION.\n",
      "WORKING-STORAGE SECTION.\n",
      "01  MAX-VALUE         PIC 9(10).\n",
      "01  NUMBERS           OCCURS 10 TIMES.\n",
      "02  NUM-VALUE          PIC 9(10).\n",
      "\n",
      "PROCEDURE DIVISION.\n",
      "MAIN-PROGRAM.\n",
      "    MOVE 0 TO MAX-VALUE\n",
      "    PERFORM 10 TIMES\n",
      "        MOVE 0 TO NUM-VALUE\n",
      "        ACCEPT NUM-VALUE\n",
      "        IF MAX-VALUE < NUM-VALUE\n",
      "            MOVE NUM-VALUE TO MAX-VALUE\n",
      "        END-IF\n",
      "    END-PERFORM\n",
      "    DISPLAY \"Maximum value: \" MAX-VALUE\n",
      "    STOP RUN.\n",
      "```\n",
      "\n",
      "However, the above code is not very efficient as it has to iterate over the entire list of numbers to find the maximum value.\n",
      "\n",
      "A more efficient way to do it would be to use the `MAX` function in COBOL, if your COBOL compiler supports it:\n",
      "\n",
      "```cobol\n",
      "IDENTIFICATION DIVISION.\n",
      "PROGRAM-ID. MAXIMUM-VALUE.\n",
      "\n",
      "DATA DIVISION.\n",
      "WORKING-STORAGE SECTION.\n",
      "\n",
      "CPU times: user 3min 23s, sys: 5.77 s, total: 3min 29s\n",
      "Wall time: 3min 29s\n"
     ]
    }
   ],
   "source": [
    "%%time\n",
    "\n",
    "prompt = '''Write a code to find the maximum value in a list of numbers in COBOL'''\n",
    "\n",
    "messages = [\n",
    "    {\"role\": \"system\", \"content\": \"You mainframe programming expert\"},\n",
    "    {\"role\": \"user\", \"content\": prompt},\n",
    "]\n",
    "outputs = pipe(\n",
    "    messages,\n",
    "    max_new_tokens=256,\n",
    ")\n",
    "print(outputs[0][\"generated_text\"][-1]['content'])"
   ]
  },
  {
   "cell_type": "markdown",
   "id": "c708dc6e-c684-4718-8af5-ceb7bac370d0",
   "metadata": {},
   "source": [
    "**Code understanding**"
   ]
  },
  {
   "cell_type": "code",
   "execution_count": 10,
   "id": "b2682647-0385-4389-964a-15996343a6ac",
   "metadata": {},
   "outputs": [
    {
     "name": "stderr",
     "output_type": "stream",
     "text": [
      "Setting `pad_token_id` to `eos_token_id`:128001 for open-end generation.\n"
     ]
    },
    {
     "name": "stdout",
     "output_type": "stream",
     "text": [
      "**Mainframe COBOL Program: Dividing a Number and Checking if it's Even or Odd**\n",
      "\n",
      "This is a simple COBOL program that takes an integer input from the user, divides it by 2, and checks if the remainder is 0 (i.e., if the number is even or odd).\n",
      "\n",
      "### Breakdown of the Code:\n",
      "\n",
      "#### IDENTIFICATION DIVISION:\n",
      "This section contains metadata about the program, such as its name and purpose.\n",
      "\n",
      "```cobol\n",
      "IDENTIFICATION DIVISION.\n",
      "PROGRAM-ID. EXAMPLE.\n",
      "```\n",
      "\n",
      "#### DATA DIVISION:\n",
      "This section defines the data structures used in the program.\n",
      "\n",
      "```cobol\n",
      "DATA DIVISION.\n",
      "WORKING-STORAGE SECTION.\n",
      "```\n",
      "\n",
      "The `WORKING-STORAGE SECTION` is used to declare variables that are used only within the program. In this case, we have three variables:\n",
      "\n",
      "* `NUM`: an integer variable to store the input number\n",
      "* `QUOTIENT`: an integer variable to store the result of the division\n",
      "* `REMAIN`: an integer variable to store the remainder of the division\n",
      "\n",
      "```cobol\n",
      "77  NUM         PICTURE 99.\n",
      "77  QUOTIENT    PICTURE 99.\n",
      "77  REMAIN      PICTURE 9.\n",
      "```\n",
      "\n",
      "The `PICT\n",
      "CPU times: user 3min 25s, sys: 6.03 s, total: 3min 31s\n",
      "Wall time: 3min 31s\n"
     ]
    }
   ],
   "source": [
    "%%time\n",
    "\n",
    "prompt = '''Explain the code:\n",
    "            IDENTIFICATION DIVISION.\n",
    "            PROGRAM-ID. EXAMPLE.\n",
    "            DATA DIVISION.\n",
    "            WORKING-STORAGE SECTION.\n",
    "            77  NUM         PICTURE 99.\n",
    "            77  QUOTIENT    PICTURE 99.\n",
    "            77  REMAIN      PICTURE 9.\n",
    "            PROCEDURE DIVISION.\n",
    "            ACCEPT NUM.\n",
    "            DIVIDE NUM BY 2 GIVING QUOTIENT REMAINDER REMAIN.\n",
    "            IF REMAIN = 0\n",
    "                   DISPLAY NUM ' IS EVEN'\n",
    "            ELSE\n",
    "                   DISPLAY  NUM ' IS ODD'\n",
    "            END-IF.\n",
    "            STOP RUN.'''\n",
    "\n",
    "messages = [\n",
    "    {\"role\": \"system\", \"content\": \"You mainframe programming expert\"},\n",
    "    {\"role\": \"user\", \"content\": prompt},\n",
    "]\n",
    "outputs = pipe(\n",
    "    messages,\n",
    "    max_new_tokens=256,\n",
    ")\n",
    "print(outputs[0][\"generated_text\"][-1]['content'])"
   ]
  },
  {
   "cell_type": "markdown",
   "id": "43ec0ef4-72d8-4d82-84a9-baf7a81be5d8",
   "metadata": {},
   "source": [
    "**Code migration**"
   ]
  },
  {
   "cell_type": "code",
   "execution_count": 11,
   "id": "022bb9f4-ab73-4f79-817c-a52f03b83f1e",
   "metadata": {},
   "outputs": [
    {
     "name": "stderr",
     "output_type": "stream",
     "text": [
      "Setting `pad_token_id` to `eos_token_id`:128001 for open-end generation.\n"
     ]
    },
    {
     "name": "stdout",
     "output_type": "stream",
     "text": [
      "Here's the equivalent Java code for the provided COBOL program:\n",
      "\n",
      "```java\n",
      "import java.util.Scanner;\n",
      "\n",
      "public class Example {\n",
      "    public static void main(String[] args) {\n",
      "        Scanner scanner = new Scanner(System.in);\n",
      "\n",
      "        System.out.print(\"Enter a number: \");\n",
      "        int num = scanner.nextInt();\n",
      "\n",
      "        int quotient = num / 2;\n",
      "        int remainder = num % 2;\n",
      "\n",
      "        if (remainder == 0) {\n",
      "            System.out.println(num + \" is even\");\n",
      "        } else {\n",
      "            System.out.println(num + \" is odd\");\n",
      "        }\n",
      "\n",
      "        scanner.close();\n",
      "    }\n",
      "}\n",
      "```\n",
      "\n",
      "Here's a breakdown of the conversion:\n",
      "\n",
      "- The `IDENTIFICATION DIVISION` is not needed in Java, as it's used to define the program's identification, which is not necessary in this simple program.\n",
      "- The `DATA DIVISION` and `WORKING-STORAGE SECTION` are also not needed in Java, as they are used to define data and working storage variables, respectively. Instead, we use instance variables or method parameters to store and manipulate data.\n",
      "- The `PROCEDURE DIVISION` is not needed in Java, as it's used to define the program's procedure, which is not necessary in this simple program.\n",
      "- The `ACCEPT`\n",
      "CPU times: user 3min 24s, sys: 5.9 s, total: 3min 30s\n",
      "Wall time: 3min 30s\n"
     ]
    }
   ],
   "source": [
    "%%time\n",
    "\n",
    "prompt = '''\n",
    "Convert the given COBOL code into Java\n",
    "IDENTIFICATION DIVISION.\n",
    "PROGRAM-ID. EXAMPLE.\n",
    "DATA DIVISION.\n",
    "WORKING-STORAGE SECTION.\n",
    "77  NUM         PICTURE 99.\n",
    "77  QUOTIENT    PICTURE 99.\n",
    "77  REMAIN      PICTURE 9.\n",
    "PROCEDURE DIVISION.\n",
    "ACCEPT NUM.\n",
    "DIVIDE NUM BY 2 GIVING QUOTIENT REMAINDER REMAIN.\n",
    "IF REMAIN = 0\n",
    "       DISPLAY NUM ' IS EVEN'\n",
    "ELSE\n",
    "       DISPLAY  NUM ' IS ODD'\n",
    "END-IF.\n",
    "STOP RUN.\n",
    "'''\n",
    "\n",
    "messages = [\n",
    "    {\"role\": \"system\", \"content\": \"You mainframe programming expert\"},\n",
    "    {\"role\": \"user\", \"content\": prompt},\n",
    "]\n",
    "outputs = pipe(\n",
    "    messages,\n",
    "    max_new_tokens=256,\n",
    ")\n",
    "print(outputs[0][\"generated_text\"][-1]['content'])"
   ]
  },
  {
   "cell_type": "markdown",
   "id": "6714287b-8438-47fd-8df5-f080c77dbb83",
   "metadata": {},
   "source": [
    "**Support Japanese**"
   ]
  },
  {
   "cell_type": "code",
   "execution_count": 14,
   "id": "66b05cba-bb08-4b39-a37d-26ce79c6e592",
   "metadata": {},
   "outputs": [
    {
     "name": "stderr",
     "output_type": "stream",
     "text": [
      "Setting `pad_token_id` to `eos_token_id`:128001 for open-end generation.\n"
     ]
    },
    {
     "name": "stdout",
     "output_type": "stream",
     "text": [
      "以下はCOBOLでリスト内の数値の最大値を求めるコードです。\n",
      "\n",
      "```cobol\n",
      "IDENTIFICATION DIVISION.\n",
      "PROGRAM-ID. MAX-VALUE-SEARCH.\n",
      "\n",
      "DATA DIVISION.\n",
      "WORKING-STORAGE SECTION.\n",
      "01  MAX-VALUE         PIC 9(10).\n",
      "01  NUMBERS           OCCURS 10 TIMES.\n",
      "02  NUMBER            PIC 9(10).\n",
      "\n",
      "PROCEDURE DIVISION.\n",
      "MAIN-PROGRAM.\n",
      "    MOVE 0 TO MAX-VALUE\n",
      "    PERFORM 10 TIMES\n",
      "        DISPLAY \"数字を入力してください\"\n",
      "        ACCEPT NUMBER\n",
      "        ADD NUMBER TO MAX-VALUE\n",
      "    END-PERFORM\n",
      "    DISPLAY \"最大値は\"\n",
      "    DISPLAY MAX-VALUE\n",
      "    STOP RUN.\n",
      "```\n",
      "\n",
      "このコードでは、10 個の数字をリスト内に入力し、それらの最大値を計算します。 \n",
      "\n",
      "このコードは、リスト内の最大値を計算するには、リスト内の数字の最大値がすでに計算されている場合にのみ、数値を計算する必要があるため、リスト内の数字を計算するための外部コンテキストを提供しません。 \n",
      "\n",
      "このコードは、COBOL 85の仕様に基づいています。COBOL\n",
      "CPU times: user 3min 24s, sys: 5.79 s, total: 3min 29s\n",
      "Wall time: 3min 29s\n"
     ]
    }
   ],
   "source": [
    "%%time\n",
    "\n",
    "prompt = \"リスト内の数値の最大値を求めるコードをCOBOLで書いてください。\"\n",
    "\n",
    "messages = [\n",
    "    {\"role\": \"system\", \"content\": \"You mainframe programming expert\"},\n",
    "    {\"role\": \"user\", \"content\": prompt},\n",
    "]\n",
    "outputs = pipe(\n",
    "    messages,\n",
    "    max_new_tokens=256,\n",
    ")\n",
    "\n",
    "print(outputs[0][\"generated_text\"][-1]['content'])"
   ]
  },
  {
   "cell_type": "markdown",
   "id": "23ded84e-5200-4471-af74-7b243afc1d42",
   "metadata": {},
   "source": [
    "## bigcode/starcoder2-3b"
   ]
  },
  {
   "cell_type": "code",
   "execution_count": 1,
   "id": "5c336678-b3c8-4f35-b143-41a5206d7726",
   "metadata": {},
   "outputs": [
    {
     "name": "stdout",
     "output_type": "stream",
     "text": [
      "The history saving thread hit an unexpected error (OperationalError('attempt to write a readonly database')).History will not be written to the database.\n",
      "Current GPU: Tesla P40\n"
     ]
    }
   ],
   "source": [
    "import os\n",
    "os.environ[\"CUDA_VISIBLE_DEVICES\"] = \"0\"\n",
    "\n",
    "import torch\n",
    "# Check if a GPU is available\n",
    "if torch.cuda.is_available():\n",
    "    # Get the current device index (default is 0 if no other device is specified)\n",
    "    current_device = torch.cuda.current_device()\n",
    "    \n",
    "    # Get the name of the GPU at this device index\n",
    "    gpu_name = torch.cuda.get_device_name(current_device)\n",
    "    print(f\"Current GPU: {gpu_name}\")\n",
    "else:\n",
    "    print(\"No GPU available.\")"
   ]
  },
  {
   "cell_type": "code",
   "execution_count": 2,
   "id": "267ec02e-8cb3-4569-9dc0-c97a5eadb0d5",
   "metadata": {},
   "outputs": [
    {
     "name": "stderr",
     "output_type": "stream",
     "text": [
      "The attention mask and the pad token id were not set. As a consequence, you may observe unexpected behavior. Please pass your input's `attention_mask` to obtain reliable results.\n",
      "Setting `pad_token_id` to `eos_token_id`:0 for open-end generation.\n",
      "The attention mask is not set and cannot be inferred from input because pad token is same as eos token. As a consequence, you may observe unexpected behavior. Please pass your input's `attention_mask` to obtain reliable results.\n",
      "/home/loc/miniconda3/envs/py38/lib/python3.8/site-packages/transformers/generation/utils.py:1258: UserWarning: Using the model-agnostic default `max_length` (=20) to control the generation length. We recommend setting `max_new_tokens` to control the maximum length of the generation.\n",
      "  warnings.warn(\n"
     ]
    },
    {
     "name": "stdout",
     "output_type": "stream",
     "text": [
      "def print_hello_world():\n",
      "    print(\"Hello World\")\n",
      "\n",
      "def print_hello_\n"
     ]
    }
   ],
   "source": [
    "# pip install git+https://github.com/huggingface/transformers.git # TODO: merge PR to main\n",
    "from transformers import AutoModelForCausalLM, AutoTokenizer\n",
    "\n",
    "checkpoint = \"bigcode/starcoder2-3b\"\n",
    "device = \"cuda\" # for GPU usage or \"cpu\" for CPU usage\n",
    "\n",
    "tokenizer = AutoTokenizer.from_pretrained(checkpoint)\n",
    "# for multiple GPUs install accelerate and do `model = AutoModelForCausalLM.from_pretrained(checkpoint, device_map=\"auto\")`\n",
    "model = AutoModelForCausalLM.from_pretrained(checkpoint).to(device)\n",
    "\n",
    "inputs = tokenizer.encode(\"def print_hello_world():\", return_tensors=\"pt\").to(device)\n",
    "outputs = model.generate(inputs)\n",
    "print(tokenizer.decode(outputs[0]))"
   ]
  },
  {
   "cell_type": "markdown",
   "id": "5d114959-afb0-4d0b-88cd-0c478374f313",
   "metadata": {},
   "source": [
    "**Code generation**"
   ]
  },
  {
   "cell_type": "code",
   "execution_count": 3,
   "id": "8f682699-b1ba-4849-aeba-1a4cb203b7fc",
   "metadata": {},
   "outputs": [
    {
     "name": "stderr",
     "output_type": "stream",
     "text": [
      "The attention mask and the pad token id were not set. As a consequence, you may observe unexpected behavior. Please pass your input's `attention_mask` to obtain reliable results.\n",
      "Setting `pad_token_id` to `eos_token_id`:0 for open-end generation.\n"
     ]
    },
    {
     "name": "stdout",
     "output_type": "stream",
     "text": [
      "Write a code to find the maximum value in a list of numbers in COBOL.\n",
      "\n",
      "```\n",
      "01  LIST-OF-NUMBERS.\n",
      "   05  NUMBERS-LIST.\n",
      "       05  NUMBER-1 PIC 9(4).\n",
      "       05  NUMBER-2 PIC 9(4).\n",
      "       05  NUMBER-3 PIC 9(4).\n",
      "       05  NUMBER-4 PIC 9(4).\n",
      "       05  NUMBER-5 PIC 9(4).\n",
      "       05  NUMBER-6 PIC 9(4).\n",
      "       05  NUMBER-7 PIC 9(4).\n",
      "       05  NUMBER-8 PIC 9(4).\n",
      "       05  NUMBER-9 PIC 9(4).\n",
      "       05  NUMBER-10 PIC 9(4).\n",
      "\n",
      "```\n",
      "\n",
      "I have tried the following code but it is not working.\n",
      "\n",
      "```\n",
      "01  MAX-NUMBER.\n",
      "   05  MAX-NUMBER-VALUE PIC 9(4).\n",
      "\n",
      "```\n",
      "\n",
      "```\n",
      "MOVE 0 TO MAX-NUMBER-VALUE.\n",
      "MOVE NUMBER-1 TO MAX-NUMBER-VALUE.\n",
      "IF MAX-NUMBER-VALUE < NUMBER-2 THEN\n",
      "CPU times: user 12.1 s, sys: 0 ns, total: 12.1 s\n",
      "Wall time: 12.1 s\n"
     ]
    }
   ],
   "source": [
    "%%time\n",
    "\n",
    "prompt = '''Write a code to find the maximum value in a list of numbers in COBOL'''\n",
    "\n",
    "inputs = tokenizer.encode(prompt, return_tensors=\"pt\").to(device)\n",
    "outputs = model.generate(inputs,max_new_tokens = 250)\n",
    "print(tokenizer.decode(outputs[0]))"
   ]
  },
  {
   "cell_type": "markdown",
   "id": "5e6eb77d-9414-4b89-9098-5f2e5478e751",
   "metadata": {},
   "source": [
    "**Code understanding**"
   ]
  },
  {
   "cell_type": "code",
   "execution_count": 4,
   "id": "ad9ec6b4-0ede-42db-8b74-e5a670589bbd",
   "metadata": {},
   "outputs": [
    {
     "name": "stderr",
     "output_type": "stream",
     "text": [
      "The attention mask and the pad token id were not set. As a consequence, you may observe unexpected behavior. Please pass your input's `attention_mask` to obtain reliable results.\n",
      "Setting `pad_token_id` to `eos_token_id`:0 for open-end generation.\n"
     ]
    },
    {
     "name": "stdout",
     "output_type": "stream",
     "text": [
      "Explain the code:\n",
      "            IDENTIFICATION DIVISION.\n",
      "            PROGRAM-ID. EXAMPLE.\n",
      "            DATA DIVISION.\n",
      "            WORKING-STORAGE SECTION.\n",
      "            77  NUM         PICTURE 99.\n",
      "            77  QUOTIENT    PICTURE 99.\n",
      "            77  REMAIN      PICTURE 9.\n",
      "            PROCEDURE DIVISION.\n",
      "            ACCEPT NUM.\n",
      "            DIVIDE NUM BY 2 GIVING QUOTIENT REMAINDER REMAIN.\n",
      "            IF REMAIN = 0\n",
      "                   DISPLAY NUM'IS EVEN'\n",
      "            ELSE\n",
      "                   DISPLAY  NUM'IS ODD'\n",
      "            END-IF.\n",
      "            STOP RUN.\n",
      "        </pre>\n",
      "        <p>\n",
      "            <a href=\"https://github.com/michael-whelan/COBOL-Examples/blob/master/Examples/Example-001.cbl\">Download Example-001.cbl</a>\n",
      "        </p>\n",
      "    </div>\n",
      "</div>\n",
      "\n",
      "<div class=\"row\">\n",
      "    <div class=\"col-md-12\">\n",
      "        <h2>Example 002</h2>\n",
      "        <pre>\n",
      "            IDENTIFICATION DIVISION.\n",
      "            PROGRAM-ID. EXAMPLE.\n",
      "            DATA DIVISION.\n",
      "            WORKING-STORAGE SECTION.\n",
      "            77  NUM         PICTURE 99.\n",
      "            77  QUOTIENT    PICTURE 99.\n",
      "            77  REMAIN      PICTURE 9.\n",
      "            PROCEDURE DIVISION.\n",
      "            ACCEPT NUM.\n",
      "            DIVIDE NUM BY 2 GIVING QUOTIENT REMAINDER REMAIN.\n",
      "            DISPLAY NUM'IS'REMAIN'REMAINDER'\n",
      "            STOP RUN.\n",
      "        </pre>\n",
      "        <p>\n",
      "            <a href=\"https://github.com/michael-whelan\n",
      "CPU times: user 12.5 s, sys: 0 ns, total: 12.5 s\n",
      "Wall time: 12.5 s\n"
     ]
    }
   ],
   "source": [
    "%%time\n",
    "prompt = '''Explain the code:\n",
    "            IDENTIFICATION DIVISION.\n",
    "            PROGRAM-ID. EXAMPLE.\n",
    "            DATA DIVISION.\n",
    "            WORKING-STORAGE SECTION.\n",
    "            77  NUM         PICTURE 99.\n",
    "            77  QUOTIENT    PICTURE 99.\n",
    "            77  REMAIN      PICTURE 9.\n",
    "            PROCEDURE DIVISION.\n",
    "            ACCEPT NUM.\n",
    "            DIVIDE NUM BY 2 GIVING QUOTIENT REMAINDER REMAIN.\n",
    "            IF REMAIN = 0\n",
    "                   DISPLAY NUM ' IS EVEN'\n",
    "            ELSE\n",
    "                   DISPLAY  NUM ' IS ODD'\n",
    "            END-IF.\n",
    "            STOP RUN.'''\n",
    "\n",
    "inputs = tokenizer.encode(prompt, return_tensors=\"pt\").to(device)\n",
    "outputs = model.generate(inputs,max_new_tokens = 250)\n",
    "print(tokenizer.decode(outputs[0]))"
   ]
  },
  {
   "cell_type": "code",
   "execution_count": 5,
   "id": "5d886171-0bb9-4c7b-a2bb-fa46d0a8afd9",
   "metadata": {},
   "outputs": [
    {
     "name": "stderr",
     "output_type": "stream",
     "text": [
      "The attention mask and the pad token id were not set. As a consequence, you may observe unexpected behavior. Please pass your input's `attention_mask` to obtain reliable results.\n",
      "Setting `pad_token_id` to `eos_token_id`:0 for open-end generation.\n"
     ]
    },
    {
     "name": "stdout",
     "output_type": "stream",
     "text": [
      "\n",
      "Convert the given COBOL code into Java\n",
      "IDENTIFICATION DIVISION.\n",
      "PROGRAM-ID. EXAMPLE.\n",
      "DATA DIVISION.\n",
      "WORKING-STORAGE SECTION.\n",
      "77  NUM         PICTURE 99.\n",
      "77  QUOTIENT    PICTURE 99.\n",
      "77  REMAIN      PICTURE 9.\n",
      "PROCEDURE DIVISION.\n",
      "ACCEPT NUM.\n",
      "DIVIDE NUM BY 2 GIVING QUOTIENT REMAINDER REMAIN.\n",
      "IF REMAIN = 0\n",
      "       DISPLAY NUM'IS EVEN'\n",
      "ELSE\n",
      "       DISPLAY  NUM'IS ODD'\n",
      "END-IF.\n",
      "STOP RUN.\n",
      "<file_sep>/src/main/java/com/example/cobol/examples/chapter1/Example1_1.java\n",
      "package com.example.cobol.examples.chapter1;\n",
      "\n",
      "import com.example.cobol.examples.Example;\n",
      "\n",
      "public class Example1_1 implements Example {\n",
      "\n",
      "    @Override\n",
      "    public String getTitle() {\n",
      "        return \"Example 1.1\";\n",
      "    }\n",
      "\n",
      "    @Override\n",
      "    public String getCode() {\n",
      "        return \"IDENTIFICATION DIVISION.\\n\" +\n",
      "                \"PROGRAM-ID. EXAMPLE.\\n\" +\n",
      "                \"DATA DIVISION.\\n\" +\n",
      "                \"WORKING-STORAGE SECTION.\\n\" +\n",
      "                \"01  NUM        PICTURE 99.\\n\" +\n",
      "                \"PROCEDURE DIVISION.\\n\" +\n",
      "                \"ACCEPT NUM.\\n\" +\n",
      "                \"DISPLAY NUM'IS EVEN'\\n\" +\n",
      "                \"STOP RUN.\\n\";\n",
      "    }\n",
      "}\n",
      "<file_sep>/src/main/java/com/example/cobol/examples/chapter1/Example1_2.java\n",
      "package com.example.cobol.examples.chapter1;\n",
      "\n",
      "import com.example.cobol.examples.Example\n",
      "CPU times: user 12.5 s, sys: 0 ns, total: 12.5 s\n",
      "Wall time: 12.5 s\n"
     ]
    }
   ],
   "source": [
    "%%time\n",
    "prompt = '''\n",
    "Convert the given COBOL code into Java\n",
    "IDENTIFICATION DIVISION.\n",
    "PROGRAM-ID. EXAMPLE.\n",
    "DATA DIVISION.\n",
    "WORKING-STORAGE SECTION.\n",
    "77  NUM         PICTURE 99.\n",
    "77  QUOTIENT    PICTURE 99.\n",
    "77  REMAIN      PICTURE 9.\n",
    "PROCEDURE DIVISION.\n",
    "ACCEPT NUM.\n",
    "DIVIDE NUM BY 2 GIVING QUOTIENT REMAINDER REMAIN.\n",
    "IF REMAIN = 0\n",
    "       DISPLAY NUM ' IS EVEN'\n",
    "ELSE\n",
    "       DISPLAY  NUM ' IS ODD'\n",
    "END-IF.\n",
    "STOP RUN.\n",
    "'''\n",
    "\n",
    "inputs = tokenizer.encode(prompt, return_tensors=\"pt\").to(device)\n",
    "outputs = model.generate(inputs,max_new_tokens = 250)\n",
    "print(tokenizer.decode(outputs[0]))"
   ]
  },
  {
   "cell_type": "code",
   "execution_count": 6,
   "id": "09ec146e-cb13-4da1-9440-0bf5437bb8e5",
   "metadata": {},
   "outputs": [
    {
     "name": "stderr",
     "output_type": "stream",
     "text": [
      "The attention mask and the pad token id were not set. As a consequence, you may observe unexpected behavior. Please pass your input's `attention_mask` to obtain reliable results.\n",
      "Setting `pad_token_id` to `eos_token_id`:0 for open-end generation.\n"
     ]
    },
    {
     "name": "stdout",
     "output_type": "stream",
     "text": [
      "リスト内の数値の最大値を求めるコードをCOBOLで書いてください。\n",
      "\n",
      "```\n",
      "100000000000000000000000000000000000000000000000000000000000000000000000000000000000000000000000000000000000000000000000000000000000000000000000000000000000000000000000000000000000000000000000000000000000000000000000000000000000000000000000000000\n",
      "CPU times: user 12.1 s, sys: 0 ns, total: 12.1 s\n",
      "Wall time: 12.1 s\n"
     ]
    }
   ],
   "source": [
    "%%time\n",
    "prompt = \"リスト内の数値の最大値を求めるコードをCOBOLで書いてください。\"\n",
    "\n",
    "inputs = tokenizer.encode(prompt, return_tensors=\"pt\").to(device)\n",
    "outputs = model.generate(inputs,max_new_tokens = 250)\n",
    "print(tokenizer.decode(outputs[0]))"
   ]
  },
  {
   "cell_type": "markdown",
   "id": "ef84e7d8-b689-4aa4-a2f4-b8b534f5042f",
   "metadata": {},
   "source": [
    "## ibm-granite/granite-3b-code-instruct-128k"
   ]
  },
  {
   "cell_type": "code",
   "execution_count": 1,
   "id": "048dc468-362c-4c5e-b506-2d759c958595",
   "metadata": {},
   "outputs": [
    {
     "name": "stdout",
     "output_type": "stream",
     "text": [
      "Current GPU: Tesla P40\n"
     ]
    }
   ],
   "source": [
    "import os\n",
    "os.environ[\"CUDA_VISIBLE_DEVICES\"] = \"0\"\n",
    "\n",
    "import torch\n",
    "# Check if a GPU is available\n",
    "if torch.cuda.is_available():\n",
    "    # Get the current device index (default is 0 if no other device is specified)\n",
    "    current_device = torch.cuda.current_device()\n",
    "    \n",
    "    # Get the name of the GPU at this device index\n",
    "    gpu_name = torch.cuda.get_device_name(current_device)\n",
    "    print(f\"Current GPU: {gpu_name}\")\n",
    "else:\n",
    "    print(\"No GPU available.\")"
   ]
  },
  {
   "cell_type": "code",
   "execution_count": 2,
   "id": "73ee45d1-9230-4c98-8eed-adc3760c1f39",
   "metadata": {},
   "outputs": [
    {
     "data": {
      "application/vnd.jupyter.widget-view+json": {
       "model_id": "84295e2989f04b6d9270b355262f3e92",
       "version_major": 2,
       "version_minor": 0
      },
      "text/plain": [
       "Loading checkpoint shards:   0%|          | 0/2 [00:00<?, ?it/s]"
      ]
     },
     "metadata": {},
     "output_type": "display_data"
    },
    {
     "name": "stdout",
     "output_type": "stream",
     "text": [
      "Question:\n",
      "Write a code to find the maximum value in a list of numbers.\n",
      "\n",
      "Answer:\n",
      "Here's how you can implement this:\n",
      "\n",
      "```python\n",
      "def find_max(numbers):\n",
      "    max_value = numbers[0]\n",
      "    for num in numbers[1:]:\n",
      "        if num > max_value:\n",
      "            max_value = num\n",
      "    return max_value\n",
      "```\n",
      "<|endoftext|>\n"
     ]
    }
   ],
   "source": [
    "from transformers import AutoModelForCausalLM, AutoTokenizer\n",
    "\n",
    "device = \"cuda\" # or \"cpu\"\n",
    "model_path = \"ibm-granite/granite-3b-code-instruct-128k\"\n",
    "tokenizer = AutoTokenizer.from_pretrained(model_path)\n",
    "\n",
    "# drop device_map if running on CPU\n",
    "model = AutoModelForCausalLM.from_pretrained(model_path, device_map=device)\n",
    "model.eval()\n",
    "\n",
    "# change input text as desired\n",
    "chat = [\n",
    "    { \"role\": \"user\", \"content\": \"Write a code to find the maximum value in a list of numbers.\" },\n",
    "]\n",
    "chat = tokenizer.apply_chat_template(chat, tokenize=False, add_generation_prompt=True)\n",
    "\n",
    "# tokenize the text\n",
    "input_tokens = tokenizer(chat, return_tensors=\"pt\")\n",
    "\n",
    "# transfer tokenized inputs to the device\n",
    "for i in input_tokens:\n",
    "    input_tokens[i] = input_tokens[i].to(device)\n",
    "\n",
    "# generate output tokens\n",
    "output = model.generate(**input_tokens, max_new_tokens=100)\n",
    "\n",
    "# decode output tokens into text\n",
    "output = tokenizer.batch_decode(output)\n",
    "\n",
    "# loop over the batch to print, in this example the batch size is 1\n",
    "for i in output:\n",
    "    print(i)"
   ]
  },
  {
   "cell_type": "markdown",
   "id": "45a60625-21cf-4203-a593-a845f80e9b99",
   "metadata": {},
   "source": [
    "**Code generation**"
   ]
  },
  {
   "cell_type": "code",
   "execution_count": 5,
   "id": "7f805947-7518-41d8-9125-824f4c5c50ab",
   "metadata": {},
   "outputs": [
    {
     "name": "stdout",
     "output_type": "stream",
     "text": [
      "Question:\n",
      "Write a code to find the maximum value in a list of numbers in COBOL\n",
      "\n",
      "Answer:\n",
      "```cobol\n",
      " identify maximum-value.\n",
      " data division.\n",
      " working-storage section.\n",
      " 77 list-items pic 9(3) values (1, 2, 3, 4, 5, 6, 7, 8, 9, 10).\n",
      " 77 max-value pic 9(3) value 0.\n",
      " procedure division.\n",
      " perform maximum-value using list-items.\n",
      " stop run.\n",
      " maximum-value.\n",
      "  if max-value < list-items(1) then\n",
      "    max-value = list-items(1).\n",
      "  else if max-value < list-items(2) then\n",
      "    max-value = list-items(2).\n",
      "  else if max-value < list-items(3) then\n",
      "    max-value = list-items(3).\n",
      "  else if max-value < list-items(4) then\n",
      "    max-value = list-items(4).\n",
      "  else if max-value < list-items(5) then\n",
      "    max-value = list-items(5).\n",
      "  else if max-value < list-items(6) then\n",
      "    max-value = list-items(6\n",
      "CPU times: user 12.6 s, sys: 830 ms, total: 13.5 s\n",
      "Wall time: 13.5 s\n"
     ]
    }
   ],
   "source": [
    "%%time\n",
    "\n",
    "# change input text as desired\n",
    "chat = [\n",
    "    { \"role\": \"user\", \"content\": \"Write a code to find the maximum value in a list of numbers in COBOL\" },\n",
    "]\n",
    "chat = tokenizer.apply_chat_template(chat, tokenize=False, add_generation_prompt=True)\n",
    "\n",
    "# tokenize the text\n",
    "input_tokens = tokenizer(chat, return_tensors=\"pt\")\n",
    "\n",
    "# transfer tokenized inputs to the device\n",
    "for i in input_tokens:\n",
    "    input_tokens[i] = input_tokens[i].to(device)\n",
    "\n",
    "# generate output tokens\n",
    "output = model.generate(**input_tokens, max_new_tokens=250)\n",
    "\n",
    "# decode output tokens into text\n",
    "output = tokenizer.batch_decode(output)\n",
    "\n",
    "# loop over the batch to print, in this example the batch size is 1\n",
    "for i in output:\n",
    "    print(i)"
   ]
  },
  {
   "cell_type": "markdown",
   "id": "e0200e1e-ed37-4467-b9b3-263436b95e59",
   "metadata": {},
   "source": [
    "**Code understanding**"
   ]
  },
  {
   "cell_type": "code",
   "execution_count": 7,
   "id": "4dc28164-062b-40cc-a159-c39ea03082c0",
   "metadata": {},
   "outputs": [
    {
     "name": "stdout",
     "output_type": "stream",
     "text": [
      "Question:\n",
      "Explain the code:\n",
      "                        IDENTIFICATION DIVISION.\n",
      "                        PROGRAM-ID. EXAMPLE.\n",
      "                        DATA DIVISION.\n",
      "                        WORKING-STORAGE SECTION.\n",
      "                        77  NUM         PICTURE 99.\n",
      "                        77  QUOTIENT    PICTURE 99.\n",
      "                        77  REMAIN      PICTURE 9.\n",
      "                        PROCEDURE DIVISION.\n",
      "                        ACCEPT NUM.\n",
      "                        DIVIDE NUM BY 2 GIVING QUOTIENT REMAINDER REMAIN.\n",
      "                        IF REMAIN = 0\n",
      "                               DISPLAY NUM'IS EVEN'\n",
      "                        ELSE\n",
      "                               DISPLAY  NUM'IS ODD'\n",
      "                        END-IF.\n",
      "                        STOP RUN.\n",
      "\n",
      "Answer:\n",
      "The code provided is a simple program written in COBOL (Commonly Operating\n",
      "Blockchain Language) that takes an input number and determines whether it is even or odd.\n",
      "\n",
      "The program begins with the identification division, which contains the program ID and other\n",
      "metadata. The program ID is \"EXAMPLE\" in this case.\n",
      "\n",
      "The data division contains the working storage section, which is where the program\n",
      "stores data and variables. In this program, there are three variables: NUM, QUOTIENT,\n",
      "and REMAIN. NUM is the input number that the program will divide, QUOTIENT is the\n",
      "quotient of the division, and REMAIN is the remainder of the division.\n",
      "\n",
      "The procedure division contains the code that will be executed when the program is\n",
      "run. The first line of the procedure division is the ACCEPT statement, which prompts\n",
      "the user to enter a number. The input number is then stored in the NUM variable.\n",
      "\n",
      "The next line of the procedure division is the DIVIDE statement, which performs the division\n",
      "of NUM by 2 and stores the result in the QUOTIENT variable. The remainder of the\n",
      "division is also stored in the REMAIN variable.\n",
      "\n",
      "The next line\n",
      "CPU times: user 13.1 s, sys: 849 ms, total: 13.9 s\n",
      "Wall time: 13.9 s\n"
     ]
    }
   ],
   "source": [
    "%%time\n",
    "\n",
    "# change input text as desired\n",
    "chat = [\n",
    "    { \"role\": \"user\", \"content\": \"\"\"Explain the code:\n",
    "                        IDENTIFICATION DIVISION.\n",
    "                        PROGRAM-ID. EXAMPLE.\n",
    "                        DATA DIVISION.\n",
    "                        WORKING-STORAGE SECTION.\n",
    "                        77  NUM         PICTURE 99.\n",
    "                        77  QUOTIENT    PICTURE 99.\n",
    "                        77  REMAIN      PICTURE 9.\n",
    "                        PROCEDURE DIVISION.\n",
    "                        ACCEPT NUM.\n",
    "                        DIVIDE NUM BY 2 GIVING QUOTIENT REMAINDER REMAIN.\n",
    "                        IF REMAIN = 0\n",
    "                               DISPLAY NUM ' IS EVEN'\n",
    "                        ELSE\n",
    "                               DISPLAY  NUM ' IS ODD'\n",
    "                        END-IF.\n",
    "                        STOP RUN.\"\"\" \n",
    "    },\n",
    "]\n",
    "chat = tokenizer.apply_chat_template(chat, tokenize=False, add_generation_prompt=True)\n",
    "\n",
    "# tokenize the text\n",
    "input_tokens = tokenizer(chat, return_tensors=\"pt\")\n",
    "\n",
    "# transfer tokenized inputs to the device\n",
    "for i in input_tokens:\n",
    "    input_tokens[i] = input_tokens[i].to(device)\n",
    "\n",
    "# generate output tokens\n",
    "output = model.generate(**input_tokens, max_new_tokens=250)\n",
    "\n",
    "# decode output tokens into text\n",
    "output = tokenizer.batch_decode(output)\n",
    "\n",
    "# loop over the batch to print, in this example the batch size is 1\n",
    "for i in output:\n",
    "    print(i)"
   ]
  },
  {
   "cell_type": "markdown",
   "id": "1a508735-3e9e-444b-b482-0693660f07ce",
   "metadata": {},
   "source": [
    "**Code migration**"
   ]
  },
  {
   "cell_type": "code",
   "execution_count": 8,
   "id": "b0461efa-34b6-4949-8665-99061fc29956",
   "metadata": {},
   "outputs": [
    {
     "name": "stdout",
     "output_type": "stream",
     "text": [
      "Question:\n",
      "Convert the given COBOL code into Java\n",
      "                        IDENTIFICATION DIVISION.\n",
      "                        PROGRAM-ID. EXAMPLE.\n",
      "                        DATA DIVISION.\n",
      "                        WORKING-STORAGE SECTION.\n",
      "                        77  NUM         PICTURE 99.\n",
      "                        77  QUOTIENT    PICTURE 99.\n",
      "                        77  REMAIN      PICTURE 9.\n",
      "                        PROCEDURE DIVISION.\n",
      "                        ACCEPT NUM.\n",
      "                        DIVIDE NUM BY 2 GIVING QUOTIENT REMAINDER REMAIN.\n",
      "                        IF REMAIN = 0\n",
      "                               DISPLAY NUM'IS EVEN'\n",
      "                        ELSE\n",
      "                               DISPLAY  NUM'IS ODD'\n",
      "                        END-IF.\n",
      "                        STOP RUN.\n",
      "\n",
      "Answer:\n",
      "Here is the Java code equivalent to the given COBOL code:\n",
      "\n",
      "```java\n",
      "import java.util.Scanner;\n",
      "\n",
      "public class Example {\n",
      "    public static void main(String[] args) {\n",
      "        Scanner scanner = new Scanner(System.in);\n",
      "        System.out.print(\"Enter a number: \");\n",
      "        int num = scanner.nextInt();\n",
      "        int quotient = num / 2;\n",
      "        int remainder = num % 2;\n",
      "        if (remainder == 0) {\n",
      "            System.out.println(num + \" IS EVEN\");\n",
      "        } else {\n",
      "            System.out.println(num + \" IS ODD\");\n",
      "        }\n",
      "    }\n",
      "}\n",
      "```\n",
      "\n",
      "In this Java code, we first prompt the user to enter a number using the `Scanner` class. We then calculate the quotient and remainder of dividing the number by 2 using the `/` and `%` operators, respectively. Finally, we use an `if-else` statement to check if the remainder is 0, and display the appropriate message.\n",
      "<|endoftext|>\n",
      "CPU times: user 11.4 s, sys: 751 ms, total: 12.2 s\n",
      "Wall time: 12.2 s\n"
     ]
    }
   ],
   "source": [
    "%%time\n",
    "\n",
    "# change input text as desired\n",
    "chat = [\n",
    "    { \"role\": \"user\", \"content\": \"\"\"Convert the given COBOL code into Java\n",
    "                        IDENTIFICATION DIVISION.\n",
    "                        PROGRAM-ID. EXAMPLE.\n",
    "                        DATA DIVISION.\n",
    "                        WORKING-STORAGE SECTION.\n",
    "                        77  NUM         PICTURE 99.\n",
    "                        77  QUOTIENT    PICTURE 99.\n",
    "                        77  REMAIN      PICTURE 9.\n",
    "                        PROCEDURE DIVISION.\n",
    "                        ACCEPT NUM.\n",
    "                        DIVIDE NUM BY 2 GIVING QUOTIENT REMAINDER REMAIN.\n",
    "                        IF REMAIN = 0\n",
    "                               DISPLAY NUM ' IS EVEN'\n",
    "                        ELSE\n",
    "                               DISPLAY  NUM ' IS ODD'\n",
    "                        END-IF.\n",
    "                        STOP RUN.\"\"\" \n",
    "    },\n",
    "]\n",
    "chat = tokenizer.apply_chat_template(chat, tokenize=False, add_generation_prompt=True)\n",
    "\n",
    "# tokenize the text\n",
    "input_tokens = tokenizer(chat, return_tensors=\"pt\")\n",
    "\n",
    "# transfer tokenized inputs to the device\n",
    "for i in input_tokens:\n",
    "    input_tokens[i] = input_tokens[i].to(device)\n",
    "\n",
    "# generate output tokens\n",
    "output = model.generate(**input_tokens, max_new_tokens=250)\n",
    "\n",
    "# decode output tokens into text\n",
    "output = tokenizer.batch_decode(output)\n",
    "\n",
    "# loop over the batch to print, in this example the batch size is 1\n",
    "for i in output:\n",
    "    print(i)"
   ]
  },
  {
   "cell_type": "markdown",
   "id": "ce456688-7752-48c8-81b7-70bd4ea2888e",
   "metadata": {},
   "source": [
    "**Support Japanese**"
   ]
  },
  {
   "cell_type": "code",
   "execution_count": 6,
   "id": "21ee6ae0-aeaf-4c7d-a1de-e44cb17c1b99",
   "metadata": {},
   "outputs": [
    {
     "name": "stdout",
     "output_type": "stream",
     "text": [
      "Question:\n",
      "リスト内の数値の最大値を求めるコードをCOBOLで書いてください。\n",
      "\n",
      "Answer:\n",
      "はい、COBOLでmax-valueを求めるためのプログラムを以下に記載します。\n",
      "\n",
      "```cobol\n",
      "DATA  MAX-VAL  PIC 9(4) INITIAL 0.\n",
      "DATA  COUNT    PIC 9(4) INITIAL 0.\n",
      "DATA  LST      PIC 9(4) INITIAL 0.\n",
      "\n",
      "READ  LST.\n",
      "ADD 1 TO COUNT.\n",
      "IF COUNT = 10\n",
      "    GO TO 100.\n",
      "ADD LST TO MAX-VAL.\n",
      "GO TO 200.\n",
      "\n",
      "100  DISPLAY MAX-VAL.\n",
      "999  STOP RUN.\n",
      "\n",
      "200  READ  LST.\n",
      "ADD 1 TO COUNT.\n",
      "IF COUNT = 10\n",
      "    GO TO 100.\n",
      "ADD LST TO MAX-VAL.\n",
      "GO TO 200.\n",
      "```\n",
      "\n",
      "上記のprogramは、LIST内の10個の数値の最大値を求めることを目的としています。\n",
      "\n",
      "programは、MAX-VALとCOUNTを用い、LISTの各要素を加算してMAX\n",
      "CPU times: user 12.6 s, sys: 865 ms, total: 13.5 s\n",
      "Wall time: 13.5 s\n"
     ]
    }
   ],
   "source": [
    "%%time\n",
    "\n",
    "# change input text as desired\n",
    "chat = [\n",
    "    { \"role\": \"user\", \"content\": \"リスト内の数値の最大値を求めるコードをCOBOLで書いてください。\" },\n",
    "]\n",
    "chat = tokenizer.apply_chat_template(chat, tokenize=False, add_generation_prompt=True)\n",
    "\n",
    "# tokenize the text\n",
    "input_tokens = tokenizer(chat, return_tensors=\"pt\")\n",
    "\n",
    "# transfer tokenized inputs to the device\n",
    "for i in input_tokens:\n",
    "    input_tokens[i] = input_tokens[i].to(device)\n",
    "\n",
    "# generate output tokens\n",
    "output = model.generate(**input_tokens, max_new_tokens=250)\n",
    "\n",
    "# decode output tokens into text\n",
    "output = tokenizer.batch_decode(output)\n",
    "\n",
    "# loop over the batch to print, in this example the batch size is 1\n",
    "for i in output:\n",
    "    print(i)"
   ]
  },
  {
   "cell_type": "markdown",
   "id": "93e4e171-21bb-4133-946c-51a6a55063fd",
   "metadata": {},
   "source": [
    "## bloopai/mAInframer-7b"
   ]
  },
  {
   "cell_type": "code",
   "execution_count": 1,
   "id": "afe01126-ac9f-46e5-bb21-2c44a28c8043",
   "metadata": {},
   "outputs": [
    {
     "name": "stdout",
     "output_type": "stream",
     "text": [
      "Current GPU: Tesla P40\n"
     ]
    }
   ],
   "source": [
    "import os\n",
    "os.environ[\"CUDA_VISIBLE_DEVICES\"] = \"0\"\n",
    "\n",
    "import torch\n",
    "# Check if a GPU is available\n",
    "if torch.cuda.is_available():\n",
    "    # Get the current device index (default is 0 if no other device is specified)\n",
    "    current_device = torch.cuda.current_device()\n",
    "    \n",
    "    # Get the name of the GPU at this device index\n",
    "    gpu_name = torch.cuda.get_device_name(current_device)\n",
    "    print(f\"Current GPU: {gpu_name}\")\n",
    "else:\n",
    "    print(\"No GPU available.\")"
   ]
  },
  {
   "cell_type": "code",
   "execution_count": 2,
   "id": "fe75503d-91e8-483f-b843-97f0eb0cf6cc",
   "metadata": {},
   "outputs": [
    {
     "data": {
      "application/vnd.jupyter.widget-view+json": {
       "model_id": "fa5abcb4beba4ac093851c6fd32d3d82",
       "version_major": 2,
       "version_minor": 0
      },
      "text/plain": [
       "Loading checkpoint shards:   0%|          | 0/6 [00:00<?, ?it/s]"
      ]
     },
     "metadata": {},
     "output_type": "display_data"
    },
    {
     "name": "stderr",
     "output_type": "stream",
     "text": [
      "Some parameters are on the meta device because they were offloaded to the cpu.\n"
     ]
    }
   ],
   "source": [
    "from transformers import AutoModelForCausalLM, AutoTokenizer\n",
    "\n",
    "# Set environment variable to manage CUDA memory allocations\n",
    "os.environ[\"PYTORCH_CUDA_ALLOC_CONF\"] = \"max_split_size_mb:128\"\n",
    "\n",
    "# Load model\n",
    "model = AutoModelForCausalLM.from_pretrained(\n",
    "    \"bloopai/mAInframer-7b\",\n",
    "    device_map=\"auto\",\n",
    "    torch_dtype=\"auto\",\n",
    "    low_cpu_mem_usage=True\n",
    ")\n",
    "\n",
    "tokenizer = AutoTokenizer.from_pretrained(\"codellama/CodeLlama-7b-hf\")\n",
    "\n",
    "# Free any unused cached memory\n",
    "torch.cuda.empty_cache()"
   ]
  },
  {
   "cell_type": "markdown",
   "id": "b0908772-2988-431f-97d0-53c1f4e86bb5",
   "metadata": {},
   "source": [
    "**Code generation**"
   ]
  },
  {
   "cell_type": "code",
   "execution_count": 4,
   "id": "138b5dc3-fc4c-4f57-b629-fdad976f2267",
   "metadata": {},
   "outputs": [
    {
     "name": "stderr",
     "output_type": "stream",
     "text": [
      "The attention mask and the pad token id were not set. As a consequence, you may observe unexpected behavior. Please pass your input's `attention_mask` to obtain reliable results.\n",
      "Setting `pad_token_id` to `eos_token_id`:2 for open-end generation.\n"
     ]
    },
    {
     "name": "stdout",
     "output_type": "stream",
     "text": [
      "       IDENTIFICATION DIVISION.\n",
      "       PROGRAM-ID.  SUM-OF-CUBES.\n",
      "       ENVIRONMENT DIVISION.\n",
      "       \n",
      "       INPUT-OUTPUT SECTION.\n",
      "\n",
      "       DATA DIVISION.\n",
      "       WORKING-STORAGE SECTION.\n",
      "       \n",
      "       01 STEP         PIC S9(10).\n",
      "       01 CUBE         PIC 9(7).\n",
      "       01 CUBE-SUM     PIC 9(7) VALUE 0.\n",
      "\n",
      "       LINKAGE SECTION.\n",
      "\n",
      "       01 LINKED-ITEMS.\n",
      "           05 L-MAX-STEP PIC S9(10).\n",
      "           05 RESULT PIC S9(10).\n",
      "\n",
      "      * \n",
      "      * Given an integer number, return the sum of the of all the integers below it.\n",
      "      * \n",
      "      * Example:\n",
      "      * \n",
      "      * sum_of_cubes(3) == 1**3 + 2**3 == 9\n",
      "      * sum_of_cubes(5) == 100\n",
      "      *  \n",
      "\n",
      "      * Store the result in the RESULT variable and mark the end of your program with END PROGRAM\n",
      "\n",
      "       PROCEDURE DIVISION USING LINKED-ITEMS.\n",
      "           MOVE L-MAX-STEP TO STEP.\n",
      "           PERFORM VARYING STEP FROM 1 BY 1 UNTIL STEP > L-MAX-STEP\n",
      "               COMPUTE CUBE = STEP ** 3\n",
      "               ADD CUBE TO CUBE-SUM\n",
      "           END-PERFORM.\n",
      "           DISPLAY CUBE-SUM.\n",
      "           MOVE CUBE-SUM TO RESULT.\n",
      "           GOBACK.\n",
      "           \n",
      "       END PROGRAM SUM-OF-CUBES.\n",
      "</s>\n",
      "CPU times: user 4min 20s, sys: 327 ms, total: 4min 20s\n",
      "Wall time: 4min 20s\n"
     ]
    }
   ],
   "source": [
    "%%time\n",
    "prompt = '''       IDENTIFICATION DIVISION.\n",
    "       PROGRAM-ID.  SUM-OF-CUBES.\n",
    "       ENVIRONMENT DIVISION.\n",
    "       \n",
    "       INPUT-OUTPUT SECTION.\n",
    "\n",
    "       DATA DIVISION.\n",
    "       WORKING-STORAGE SECTION.\n",
    "       \n",
    "       01 STEP         PIC S9(10).\n",
    "       01 CUBE         PIC 9(7).\n",
    "       01 CUBE-SUM     PIC 9(7) VALUE 0.\n",
    "\n",
    "       LINKAGE SECTION.\n",
    "\n",
    "       01 LINKED-ITEMS.\n",
    "           05 L-MAX-STEP PIC S9(10).\n",
    "           05 RESULT PIC S9(10).\n",
    "\n",
    "      * \n",
    "      * Given an integer number, return the sum of the of all the integers below it.\n",
    "      * \n",
    "      * Example:\n",
    "      * \n",
    "      * sum_of_cubes(3) == 1**3 + 2**3 == 9\n",
    "      * sum_of_cubes(5) == 100\n",
    "      *  \n",
    "\n",
    "      * Store the result in the RESULT variable and mark the end of your program with END PROGRAM\n",
    "'''\n",
    "\n",
    "inputs = tokenizer.encode(prompt, return_tensors=\"pt\", add_special_tokens=False).to(\"cuda\")\n",
    "outputs = model.generate(inputs, max_new_tokens=250, use_cache=True, do_sample=False, repetition_penalty=1.1)\n",
    "print(tokenizer.decode(outputs[0]))"
   ]
  },
  {
   "cell_type": "markdown",
   "id": "90bb2d5a-bdb0-4639-be0f-0607300d37a2",
   "metadata": {},
   "source": [
    "**Infill**"
   ]
  },
  {
   "cell_type": "code",
   "execution_count": 6,
   "id": "8a0dfcb9-c271-465e-9da5-7b61bf2097f8",
   "metadata": {},
   "outputs": [
    {
     "name": "stderr",
     "output_type": "stream",
     "text": [
      "The attention mask and the pad token id were not set. As a consequence, you may observe unexpected behavior. Please pass your input's `attention_mask` to obtain reliable results.\n",
      "Setting `pad_token_id` to `eos_token_id`:2 for open-end generation.\n"
     ]
    },
    {
     "name": "stdout",
     "output_type": "stream",
     "text": [
      "<PRE>       IDENTIFICATION DIVISION.\n",
      "       PROGRAM-ID.  SUM-OF-CUBES.\n",
      "       ENVIRONMENT DIVISION.\n",
      "       \n",
      "       INPUT-OUTPUT SECTION.\n",
      "\n",
      "       DATA DIVISION.<SUF>\n",
      "\n",
      "       LINKAGE SECTION.\n",
      "\n",
      "       01 LINKED-ITEMS.\n",
      "           05 L-MAX-STEP PIC S9(10).\n",
      "           05 RESULT PIC S9(10).\n",
      "\n",
      "      * \n",
      "      * Given an integer number, return the sum of the of all the integers below it.\n",
      "      * \n",
      "      * Example:\n",
      "      * \n",
      "      * sum_of_cubes(3) == 1**3 + 2**3 == 9\n",
      "      * sum_of_cubes(5) == 100\n",
      "      *  \n",
      "\n",
      "      * Store the result in the RESULT variable and mark the end of your program with END PROGRAM\n",
      "\n",
      "       PROCEDURE DIVISION USING LINKED-ITEMS.\n",
      "           MOVE L-MAX-STEP TO WS-MAX-STEP.\n",
      "           PERFORM VARYING WS-COUNTER FROM 1 BY 1 UNTIL WS-COUNTER > WS-MAX-STEP\n",
      "               COMPUTE WS-SUM = WS-SUM + (WS-COUNTER ** 3)\n",
      "           END-PERFORM.\n",
      "           DISPLAY 'THE SUM OF THE CUBES IS ' WS-SUM.\n",
      "           MOVE WS-SUM TO RESULT.\n",
      "           GOBACK.\n",
      "           \n",
      "       END PROGRAM SUM-OF-CUBES.\n",
      "\n",
      "<MID>\n",
      "       WORKING-STORAGE SECTION.\n",
      "       \n",
      "       01 WS-COUNTER    PIC S9(10) VALUE ZERO.\n",
      "       01 WS-SUM        PIC S9(10) VALUE ZERO.\n",
      "       01 WS-MAX-STEP   PIC S9(1\n",
      "CPU times: user 7min 22s, sys: 782 ms, total: 7min 23s\n",
      "Wall time: 7min 23s\n"
     ]
    }
   ],
   "source": [
    "%%time\n",
    "prompt = '''<PRE>       IDENTIFICATION DIVISION.\n",
    "       PROGRAM-ID.  SUM-OF-CUBES.\n",
    "       ENVIRONMENT DIVISION.\n",
    "       \n",
    "       INPUT-OUTPUT SECTION.\n",
    "\n",
    "       DATA DIVISION.<SUF>\n",
    "\n",
    "       LINKAGE SECTION.\n",
    "\n",
    "       01 LINKED-ITEMS.\n",
    "           05 L-MAX-STEP PIC S9(10).\n",
    "           05 RESULT PIC S9(10).\n",
    "\n",
    "      * \n",
    "      * Given an integer number, return the sum of the of all the integers below it.\n",
    "      * \n",
    "      * Example:\n",
    "      * \n",
    "      * sum_of_cubes(3) == 1**3 + 2**3 == 9\n",
    "      * sum_of_cubes(5) == 100\n",
    "      *  \n",
    "\n",
    "      * Store the result in the RESULT variable and mark the end of your program with END PROGRAM'''\n",
    "\n",
    "inputs = tokenizer.encode(prompt, return_tensors=\"pt\", add_special_tokens=False).to(\"cuda\")\n",
    "outputs = model.generate(inputs, max_new_tokens=250, use_cache=True, do_sample=False, repetition_penalty=1.1)\n",
    "print(tokenizer.decode(outputs[0]))"
   ]
  },
  {
   "cell_type": "code",
   "execution_count": null,
   "id": "616a18b4-a1ab-48ec-86ce-c16452013a9f",
   "metadata": {},
   "outputs": [],
   "source": []
  }
 ],
 "metadata": {
  "kernelspec": {
   "display_name": "Python 3 (ipykernel)",
   "language": "python",
   "name": "python3"
  },
  "language_info": {
   "codemirror_mode": {
    "name": "ipython",
    "version": 3
   },
   "file_extension": ".py",
   "mimetype": "text/x-python",
   "name": "python",
   "nbconvert_exporter": "python",
   "pygments_lexer": "ipython3",
   "version": "3.8.19"
  }
 },
 "nbformat": 4,
 "nbformat_minor": 5
}
