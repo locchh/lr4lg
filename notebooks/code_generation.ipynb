{
 "cells": [
  {
   "cell_type": "code",
   "execution_count": 2,
   "id": "a7e349cd-e56a-44a6-af48-a3711bc826bd",
   "metadata": {},
   "outputs": [
    {
     "name": "stdout",
     "output_type": "stream",
     "text": [
      "{'function_name': 'calculateSum', 'parameters': ['a', 'b'], 'purpose': 'returns the sum of two numbers'}\n"
     ]
    }
   ],
   "source": [
    "import sys\n",
    "from antlr4 import *\n",
    "from parser.CodeGen.CodeGenLexer import CodeGenLexer\n",
    "from parser.CodeGen.CodeGenParser import CodeGenParser\n",
    "\n",
    "# Custom visitor to extract the structure from the parsed input\n",
    "class CodeGenVisitor(ParseTreeVisitor):\n",
    "\n",
    "    def visitCodeSpec(self, ctx):\n",
    "        function_name = ctx.functionName().getText()\n",
    "        parameters = [param.getText() for param in ctx.paramList().param()]\n",
    "        purpose = ctx.functionPurpose().getText().strip('\"')\n",
    "        return {\n",
    "            'function_name': function_name,\n",
    "            'parameters': parameters,\n",
    "            'purpose': purpose\n",
    "        }\n",
    "\n",
    "# Function to parse the input\n",
    "def parse_code_spec(input_text):\n",
    "    input_stream = InputStream(input_text)\n",
    "    lexer = CodeGenLexer(input_stream)\n",
    "    stream = CommonTokenStream(lexer)\n",
    "    parser = CodeGenParser(stream)\n",
    "    tree = parser.codeSpec()\n",
    "    visitor = CodeGenVisitor()\n",
    "    return visitor.visit(tree)\n",
    "\n",
    "# Example usage\n",
    "description = 'Create a function calculateSum with parameters a, b that \"returns the sum of two numbers\"'\n",
    "parsed_data = parse_code_spec(description)\n",
    "print(parsed_data)"
   ]
  },
  {
   "cell_type": "code",
   "execution_count": 3,
   "id": "6d275054-4503-4f1b-ad22-95a29b1b2294",
   "metadata": {},
   "outputs": [
    {
     "name": "stdout",
     "output_type": "stream",
     "text": [
      "You can create a simple Python function named `calculateSum` that takes two parameters, `a` and `b`, and returns their sum. Here's the code:\n",
      "\n",
      "```python\n",
      "def calculateSum(a, b):\n",
      "    return a + b\n",
      "```\n",
      "\n",
      "You can use this function like this:\n",
      "\n",
      "```python\n",
      "result = calculateSum(5, 7)\n",
      "print(result)  # Output: 12\n",
      "``` \n",
      "\n",
      "This function works for both integers and floating-point numbers.\n"
     ]
    }
   ],
   "source": [
    "from openai import OpenAI\n",
    "\n",
    "with open(\"/home/loc/Documents/keys/OPENAI_API_KEY.txt\") as f:\n",
    "    OPENAI_API_KEY = f.read().strip()\n",
    "    \n",
    "client = OpenAI(api_key=OPENAI_API_KEY)\n",
    "\n",
    "# Function to prompt the LLM\n",
    "def generate_code_with_llm(parsed_data):\n",
    "    prompt = (\n",
    "        f\"Generate a Python function named '{parsed_data['function_name']}' \"\n",
    "        f\"with parameters {', '.join(parsed_data['parameters'])}. \"\n",
    "        f\"The function should {parsed_data['purpose']}.\"\n",
    "    )\n",
    "    \n",
    "    response = client.chat.completions.create(\n",
    "                messages=[{\n",
    "                    \"role\": \"user\",\n",
    "                    \"content\": prompt,\n",
    "                }],\n",
    "                model=\"gpt-4o-mini\",\n",
    "            )\n",
    "\n",
    "    \n",
    "    return response.choices[0].message.content\n",
    "\n",
    "code = generate_code_with_llm(parsed_data)\n",
    "print(code)"
   ]
  },
  {
   "cell_type": "code",
   "execution_count": null,
   "id": "83582b0b-4709-4ea3-be79-d16e56d155f9",
   "metadata": {},
   "outputs": [],
   "source": []
  }
 ],
 "metadata": {
  "kernelspec": {
   "display_name": "Python 3 (ipykernel)",
   "language": "python",
   "name": "python3"
  },
  "language_info": {
   "codemirror_mode": {
    "name": "ipython",
    "version": 3
   },
   "file_extension": ".py",
   "mimetype": "text/x-python",
   "name": "python",
   "nbconvert_exporter": "python",
   "pygments_lexer": "ipython3",
   "version": "3.10.15"
  }
 },
 "nbformat": 4,
 "nbformat_minor": 5
}
