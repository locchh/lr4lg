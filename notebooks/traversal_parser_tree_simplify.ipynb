{
 "cells": [
  {
   "cell_type": "code",
   "execution_count": 1,
   "id": "46ea6490-11d7-42e8-85a1-b5f7f62b9a49",
   "metadata": {},
   "outputs": [
    {
     "name": "stdout",
     "output_type": "stream",
     "text": [
      "Import Successful!\n"
     ]
    }
   ],
   "source": [
    "import os\n",
    "import sys\n",
    "import json\n",
    "\n",
    "# Use the current working directory instead of __file__\n",
    "current_dir = os.getcwd()\n",
    "parent_dir = os.path.abspath(os.path.join(current_dir, '..','parser'))\n",
    "\n",
    "# Add the parent directory to sys.path\n",
    "sys.path.append(parent_dir)\n",
    "\n",
    "from antlr4 import *\n",
    "from cobol85.Cobol85Lexer import Cobol85Lexer\n",
    "from cobol85.Cobol85Parser import Cobol85Parser\n",
    "from cobol85.Cobol85Listener import Cobol85Listener\n",
    "\n",
    "print(\"Import Successful!\")"
   ]
  },
  {
   "cell_type": "code",
   "execution_count": 2,
   "id": "4f51b8ac-b99a-47f7-8d7d-7b124c5e6e6b",
   "metadata": {},
   "outputs": [],
   "source": [
    "class CobolCFGListener(Cobol85Listener):\n",
    "    def __init__(self):\n",
    "        self.nodes = []\n",
    "        self.edges = []\n",
    "        self.business_rules = {}\n",
    "\n",
    "    def enterProcedureDivision(self, ctx: Cobol85Parser.ProcedureDivisionContext):\n",
    "        # Start processing procedure division for control flow\n",
    "        self.nodes.append({\"id\": \"start\", \"data\": {\"label\": \"start\"}})\n",
    "\n",
    "\n",
    "    def enterAcceptStatement(self, ctx: Cobol85Parser.AcceptStatementContext):\n",
    "        # Capture an ACCEPT statement\n",
    "        accept_node = {\"id\": \"1\", \"data\": {\"label\": f\"ACCEPT {ctx.identifier().getText()}\\n\"}}\n",
    "        self.nodes.append(accept_node)\n",
    "        self.edges.append({\"id\": \"1\", \"source\": \"start\", \"target\": \"1\", \"label\": \"start\"})\n",
    "\n",
    "    def enterIfStatement(self, ctx: Cobol85Parser.IfStatementContext):\n",
    "        # Capture an IF statement in control flow\n",
    "        if_node = {\"id\": \"3\", \"data\": {\"label\": f\"IF {ctx.condition().getText()}\\n\"}}\n",
    "        self.nodes.append(if_node)\n",
    "        self.edges.append({\"id\": \"3\", \"source\": \"2\", \"target\": \"3\", \"label\": \"sequential next\"})"
   ]
  },
  {
   "cell_type": "code",
   "execution_count": 3,
   "id": "ebf4bd78-f234-44a2-9ceb-ceb741e6618e",
   "metadata": {},
   "outputs": [],
   "source": [
    "input_code = \"\"\"\n",
    "IDENTIFICATION DIVISION.\n",
    "       PROGRAM-ID. EXAMPLE.\n",
    "       DATA DIVISION.\n",
    "       WORKING-STORAGE SECTION.\n",
    "       77  NUM         PICTURE 99.\n",
    "       77  QUOTIENT    PICTURE 99.\n",
    "       77  REMAIN      PICTURE 9.\n",
    "       PROCEDURE DIVISION.\n",
    "           ACCEPT NUM.\n",
    "           DIVIDE NUM BY 2 GIVING QUOTIENT REMAINDER REMAIN.\n",
    "           IF REMAIN = 0\n",
    "                   DISPLAY NUM ' IS EVEN'\n",
    "           ELSE\n",
    "                   DISPLAY  NUM ' IS ODD'\n",
    "           END-IF.\n",
    "           STOP RUN.\n",
    "\"\"\"\n",
    "\n",
    "lexer = Cobol85Lexer(InputStream(input_code))\n",
    "stream = CommonTokenStream(lexer)\n",
    "parser = Cobol85Parser(stream)\n",
    "tree = parser.startRule()"
   ]
  },
  {
   "cell_type": "code",
   "execution_count": 4,
   "id": "00387fda-bb60-42f7-a486-17cad18798f2",
   "metadata": {},
   "outputs": [
    {
     "name": "stdout",
     "output_type": "stream",
     "text": [
      "Nodes: [{'id': 'start', 'data': {'label': 'start'}}, {'id': '1', 'data': {'label': 'ACCEPT NUM\\n'}}, {'id': '3', 'data': {'label': 'IF REMAIN=0\\n'}}]\n",
      "Edges: [{'id': '1', 'source': 'start', 'target': '1', 'label': 'start'}, {'id': '3', 'source': '2', 'target': '3', 'label': 'sequential next'}]\n",
      "Business Rules: {}\n"
     ]
    }
   ],
   "source": [
    "cfg_listener = CobolCFGListener()\n",
    "walker = ParseTreeWalker()\n",
    "walker.walk(cfg_listener, tree)\n",
    "\n",
    "print(\"Nodes:\", cfg_listener.nodes)\n",
    "print(\"Edges:\", cfg_listener.edges)\n",
    "print(\"Business Rules:\", cfg_listener.business_rules)"
   ]
  },
  {
   "cell_type": "code",
   "execution_count": 5,
   "id": "146c904f-5afd-4921-893b-db167c312381",
   "metadata": {},
   "outputs": [
    {
     "data": {
      "text/plain": [
       "{'nodes': [{'id': 'start', 'data': {'label': 'start'}},\n",
       "  {'id': '1', 'data': {'label': 'ACCEPT NUM\\n'}},\n",
       "  {'id': '3', 'data': {'label': 'IF REMAIN=0\\n'}}],\n",
       " 'edges': [{'id': '1', 'source': 'start', 'target': '1', 'label': 'start'},\n",
       "  {'id': '3', 'source': '2', 'target': '3', 'label': 'sequential next'}]}"
      ]
     },
     "execution_count": 5,
     "metadata": {},
     "output_type": "execute_result"
    }
   ],
   "source": [
    "data = {\n",
    "    \"nodes\": cfg_listener.nodes,\n",
    "    \"edges\": cfg_listener.edges,\n",
    "}\n",
    "\n",
    "data"
   ]
  },
  {
   "cell_type": "code",
   "execution_count": 6,
   "id": "f3933bbc-85f8-47b3-b7e9-ac6ad8e13c29",
   "metadata": {},
   "outputs": [],
   "source": [
    "with open('cfg.json', 'w') as f:\n",
    "    json.dump(data, f)"
   ]
  },
  {
   "cell_type": "code",
   "execution_count": null,
   "id": "b902d6da-735d-4da8-a640-71e1365e4bdd",
   "metadata": {},
   "outputs": [],
   "source": []
  }
 ],
 "metadata": {
  "kernelspec": {
   "display_name": "Python 3 (ipykernel)",
   "language": "python",
   "name": "python3"
  },
  "language_info": {
   "codemirror_mode": {
    "name": "ipython",
    "version": 3
   },
   "file_extension": ".py",
   "mimetype": "text/x-python",
   "name": "python",
   "nbconvert_exporter": "python",
   "pygments_lexer": "ipython3",
   "version": "3.10.15"
  }
 },
 "nbformat": 4,
 "nbformat_minor": 5
}
