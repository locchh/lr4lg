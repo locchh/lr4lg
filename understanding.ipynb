{
 "cells": [
  {
   "cell_type": "code",
   "execution_count": 2,
   "id": "5f0faa67-9220-4ad0-8e9c-47c3a7fe8471",
   "metadata": {},
   "outputs": [],
   "source": [
    "import sys\n",
    "from antlr4 import *\n",
    "from parser.Cobol.CobolLexer import CobolLexer\n",
    "from parser.Cobol.CobolParser import CobolParser\n",
    "\n",
    "class CobolUnderstandingVisitor(ParseTreeVisitor):\n",
    "    def visitProgram(self, ctx: CobolParser.ProgramContext):\n",
    "        identifier = ctx.identifier().getText()\n",
    "        statement = self.visit(ctx.statement())\n",
    "        print(f\"Program Name: {identifier}\")\n",
    "        print(\"Statements:\")\n",
    "        print(statement)\n",
    "        return statement\n",
    "\n",
    "    def visitDisplayStatement(self, ctx: CobolParser.DisplayStatementContext):\n",
    "        display_string = ctx.STRING_LITERAL().getText().strip('\"')\n",
    "        return f'Display: \"{display_string}\"'"
   ]
  },
  {
   "cell_type": "code",
   "execution_count": 4,
   "id": "c2b05eb5-449a-4953-a074-09600ba117e4",
   "metadata": {},
   "outputs": [
    {
     "name": "stdout",
     "output_type": "stream",
     "text": [
      "Program Name: MAIN\n",
      "Statements:\n",
      "Display: \"Hello, World!\"\n"
     ]
    },
    {
     "name": "stderr",
     "output_type": "stream",
     "text": [
      "line 1:4 token recognition error at: '-'\n",
      "line 1:5 extraneous input 'PROGRAM' expecting 'IS'\n"
     ]
    },
    {
     "data": {
      "text/plain": [
       "'Display: \"Hello, World!\"'"
      ]
     },
     "execution_count": 4,
     "metadata": {},
     "output_type": "execute_result"
    }
   ],
   "source": [
    "file_path = \"example.cob\"\n",
    "input_stream = FileStream(file_path)  # Read COBOL code from a file\n",
    "lexer = CobolLexer(input_stream)\n",
    "token_stream = CommonTokenStream(lexer)\n",
    "parser = CobolParser(token_stream)\n",
    "\n",
    "tree = parser.program()  # Start parsing from the program rule\n",
    "visitor = CobolUnderstandingVisitor()\n",
    "visitor.visit(tree)  # Analyze the tree"
   ]
  },
  {
   "cell_type": "code",
   "execution_count": null,
   "id": "dfff9a8f-0fcf-446d-aa86-ae6a88499a40",
   "metadata": {},
   "outputs": [],
   "source": []
  }
 ],
 "metadata": {
  "kernelspec": {
   "display_name": "Python 3 (ipykernel)",
   "language": "python",
   "name": "python3"
  },
  "language_info": {
   "codemirror_mode": {
    "name": "ipython",
    "version": 3
   },
   "file_extension": ".py",
   "mimetype": "text/x-python",
   "name": "python",
   "nbconvert_exporter": "python",
   "pygments_lexer": "ipython3",
   "version": "3.10.15"
  }
 },
 "nbformat": 4,
 "nbformat_minor": 5
}
